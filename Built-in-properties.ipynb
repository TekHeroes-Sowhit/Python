{
 "cells": [
  {
   "cell_type": "code",
   "execution_count": 7,
   "metadata": {},
   "outputs": [
    {
     "name": "stdout",
     "output_type": "stream",
     "text": [
      "True\n",
      "False\n",
      "True\n",
      "False\n"
     ]
    }
   ],
   "source": [
    "# all(iterable)\n",
    "\n",
    "boolean_list = ['True', 'True', 'True']\n",
    "result=all(boolean_list)\n",
    "print(result)\n",
    "s = {0: 'False', 1: 'False'}\n",
    "print(all(s))\n",
    "s = {1: 'True', 2: 'True'}\n",
    "print(all(s))\n",
    "s = {1: 'True', False: 0}\n",
    "print(all(s))"
   ]
  },
  {
   "cell_type": "code",
   "execution_count": 13,
   "metadata": {},
   "outputs": [
    {
     "name": "stdout",
     "output_type": "stream",
     "text": [
      "[65, 71, 68, 74, 61] 10\n",
      "11.0\n"
     ]
    }
   ],
   "source": [
    "# sum(iterable, start)\n",
    "marks = [65, 71, 68, 74, 61]\n",
    "# find sum of all marks\n",
    "total_marks = sum(marks)\n",
    "print(marks,10)\n",
    "numbers=[4.5,5.5]\n",
    "total_marks=sum(numbers,1)\n",
    "print(total_marks)"
   ]
  },
  {
   "cell_type": "code",
   "execution_count": 20,
   "metadata": {},
   "outputs": [
    {
     "data": {
      "text/plain": [
       "'***+123'"
      ]
     },
     "execution_count": 20,
     "metadata": {},
     "output_type": "execute_result"
    }
   ],
   "source": [
    "format(123, \"*>+7,d\")"
   ]
  },
  {
   "cell_type": "code",
   "execution_count": 23,
   "metadata": {},
   "outputs": [
    {
     "name": "stdout",
     "output_type": "stream",
     "text": [
      "23\n"
     ]
    }
   ],
   "source": [
    "# format(value[, format_spec])\n",
    "class person:\n",
    "    def __format__(self,format):\n",
    "        if(format=='age'):\n",
    "            return '23'\n",
    "        else:\n",
    "            return None\n",
    "print(format(person(),\"age\"))"
   ]
  },
  {
   "cell_type": "code",
   "execution_count": 24,
   "metadata": {},
   "outputs": [
    {
     "name": "stdout",
     "output_type": "stream",
     "text": [
      "a\n",
      "A\n",
      "Ұ\n"
     ]
    }
   ],
   "source": [
    "# chr(number)\n",
    "print(chr(97))\n",
    "print(chr(65))\n",
    "print(chr(1200))"
   ]
  },
  {
   "cell_type": "code",
   "execution_count": 14,
   "metadata": {},
   "outputs": [
    {
     "data": {
      "text/plain": [
       "'peter'"
      ]
     },
     "execution_count": 14,
     "metadata": {},
     "output_type": "execute_result"
    }
   ],
   "source": [
    "#getattr\n",
    "#getattr(object, name[, default])\n",
    "class student:\n",
    "    marks=99\n",
    "    name='peter'\n",
    "person=student()\n",
    "getattr(person,'name')"
   ]
  },
  {
   "cell_type": "code",
   "execution_count": 27,
   "metadata": {},
   "outputs": [
    {
     "name": "stdout",
     "output_type": "stream",
     "text": [
      "Help on built-in function print in module builtins:\n",
      "\n",
      "print(...)\n",
      "    print(value, ..., sep=' ', end='\\n', file=sys.stdout, flush=False)\n",
      "    \n",
      "    Prints the values to a stream, or to sys.stdout by default.\n",
      "    Optional keyword arguments:\n",
      "    file:  a file-like object (stream); defaults to the current sys.stdout.\n",
      "    sep:   string inserted between values, default a space.\n",
      "    end:   string appended after the last value, default a newline.\n",
      "    flush: whether to forcibly flush the stream.\n",
      "\n"
     ]
    }
   ],
   "source": [
    "# # help()\n",
    "# help(object)\n",
    "help('print')"
   ]
  },
  {
   "cell_type": "code",
   "execution_count": 33,
   "metadata": {},
   "outputs": [
    {
     "data": {
      "text/plain": [
       "10.7"
      ]
     },
     "execution_count": 33,
     "metadata": {},
     "output_type": "execute_result"
    }
   ],
   "source": [
    "# round(number, ndigits)\n",
    "round(10.7,1)"
   ]
  },
  {
   "cell_type": "code",
   "execution_count": 35,
   "metadata": {},
   "outputs": [
    {
     "name": "stdout",
     "output_type": "stream",
     "text": [
      "2.68\n"
     ]
    }
   ],
   "source": [
    "from decimal import Decimal\n",
    "num = Decimal('2.675')\n",
    "print(round(num, 2))"
   ]
  },
  {
   "cell_type": "code",
   "execution_count": 49,
   "metadata": {},
   "outputs": [],
   "source": [
    "# # delattr(object, name)\n",
    "# delattr() Parameters\n",
    "# delattr() takes two parameters:\n",
    "\n",
    "# object - the object from which name attribute is to be removed\n",
    "# name -  a string which must be the name of the attribute to be removed from the object\n",
    "\n",
    "class Coordinate:\n",
    "  x = 10\n",
    "  y = -5\n",
    "  z = 0\n",
    "\n",
    "point1 = Coordinate() \n",
    "delattr(Coordinate,'z')"
   ]
  },
  {
   "cell_type": "code",
   "execution_count": 55,
   "metadata": {},
   "outputs": [
    {
     "name": "stdout",
     "output_type": "stream",
     "text": [
      "Python is fun.\n",
      "a = 5\n",
      "a = 5 = b\n"
     ]
    }
   ],
   "source": [
    "# # print() Parameters\n",
    "# objects - object to the printed. * indicates that there may be more than one object\n",
    "# sep - objects are separated by sep. Default value: ' '\n",
    "# end - end is printed at last\n",
    "# file - must be an object with write(string) method. If omitted, sys.stdout will be used which prints objects on the screen.\n",
    "# flush - If True, the stream is forcibly flushed. Default value: False\n",
    "\n",
    "print(\"Python is fun.\")\n",
    "\n",
    "a = 5\n",
    "# Two objects are passed\n",
    "print(\"a =\", a)\n",
    "\n",
    "b = a\n",
    "# Three objects are passed\n",
    "print('a =', a, '= b')"
   ]
  },
  {
   "cell_type": "code",
   "execution_count": 54,
   "metadata": {},
   "outputs": [
    {
     "name": "stdout",
     "output_type": "stream",
     "text": [
      "Before modification: Adam\n",
      "After modification: John\n",
      "After modification: John\n",
      "After modification: John\n"
     ]
    }
   ],
   "source": [
    "# setattr(object, name, value)\n",
    "class Person:\n",
    "    name = 'Adam'\n",
    "    \n",
    "p = Person()\n",
    "print('Before modification:', p.name)\n",
    "\n",
    "# setting name to 'John'\n",
    "setattr(p, 'name', 'John')\n",
    "\n",
    "print('After modification:', p.name)\n",
    "print('After modification:', p.name)\n",
    "\n",
    "print('After modification:', p.name)"
   ]
  },
  {
   "cell_type": "code",
   "execution_count": 56,
   "metadata": {},
   "outputs": [
    {
     "name": "stdout",
     "output_type": "stream",
     "text": [
      "25\n"
     ]
    }
   ],
   "source": [
    "# print(globals())\n",
    "age = 23\n",
    "globals()['age']=25\n",
    "print(age)\n",
    "print(globals())"
   ]
  },
  {
   "cell_type": "code",
   "execution_count": 66,
   "metadata": {},
   "outputs": [
    {
     "name": "stdout",
     "output_type": "stream",
     "text": [
      "oct(10) is: 0o12\n",
      "oct(0b101) is: 0o5\n",
      "oct(0XA) is: 0o12\n"
     ]
    }
   ],
   "source": [
    "# oct()\n",
    "# decimal to octal\n",
    "print('oct(10) is:', oct(10))\n",
    "\n",
    "# binary to octal\n",
    "print('oct(0b101) is:', oct(0b101))\n",
    "\n",
    "# hexadecimal to octal\n",
    "print('oct(0XA) is:', oct(0XA))"
   ]
  },
  {
   "cell_type": "code",
   "execution_count": 70,
   "metadata": {},
   "outputs": [
    {
     "name": "stdout",
     "output_type": "stream",
     "text": [
      "The hash is:\n",
      "-3076180530176352454\n"
     ]
    }
   ],
   "source": [
    "\n",
    "class Person:\n",
    "    def __init__(self, age, name):\n",
    "        self.age = age\n",
    "        self.name = name\n",
    "\n",
    "    def __eq__(self, other):\n",
    "        return self.age == other.age and self.name == other.name\n",
    "\n",
    "    def __hash__(self):\n",
    "        print('The hash is:')\n",
    "        return hash((self.age, self.name))\n",
    "\n",
    "person = Person(23, 'Adam')\n",
    "print(hash(person))\n"
   ]
  },
  {
   "cell_type": "code",
   "execution_count": 73,
   "metadata": {},
   "outputs": [
    {
     "name": "stdout",
     "output_type": "stream",
     "text": [
      "slice(None, 3, None)\n",
      "slice(1, 5, 2)\n"
     ]
    }
   ],
   "source": [
    "# # slice(start, stop, step)\n",
    "# start (optional) - Starting integer where the slicing of the object starts. Default to None if not provided.\n",
    "# stop - Integer until which the slicing takes place. The slicing stops at index stop -1 (last element).\n",
    "# step (optional) - Integer value which determines the increment between each index for slicing. Defaults to None if not provided.\n",
    "# contains indices (0, 1, 2)\n",
    "result1 = slice(3)\n",
    "print(result1)\n",
    "\n",
    "# contains indices (1, 3)\n",
    "result2 = slice(1, 5, 2)\n",
    "print(slice(1, 5, 2))"
   ]
  },
  {
   "cell_type": "code",
   "execution_count": 74,
   "metadata": {},
   "outputs": [
    {
     "name": "stdout",
     "output_type": "stream",
     "text": [
      "False\n",
      "True\n",
      "noh\n"
     ]
    }
   ],
   "source": [
    "# callable(object)\n",
    "x = 5\n",
    "print(callable(x))\n",
    "\n",
    "def testFunction():\n",
    "  print(\"Test\")\n",
    "\n",
    "y = testFunction\n",
    "print(callable(y))\n",
    "py_string = 'Python'\n",
    "\n",
    "# start = -1, stop = -4, step = -1\n",
    "# contains indices -1, -2 and -3\n",
    "slice_object = slice(-1, -4, -1)\n",
    "\n",
    "print(py_string[slice_object])   # noh"
   ]
  },
  {
   "cell_type": "code",
   "execution_count": 76,
   "metadata": {},
   "outputs": [
    {
     "name": "stdout",
     "output_type": "stream",
     "text": [
      "bytearray(b'Python is interesting.')\n"
     ]
    }
   ],
   "source": [
    "# # bytearray([source[, encoding[, errors]]])\n",
    "# bytearray() method returns a bytearray object (i.e. array of bytes) which is mutable (can be modified) sequence of integers in the range 0 <= x < 256.\n",
    "\n",
    "# If you want the immutable version, use the bytes() method.\n",
    "string = \"Python is interesting.\"\n",
    "\n",
    "# string with encoding 'utf-8'\n",
    "arr = bytearray(string, 'utf-8')\n",
    "print(arr)"
   ]
  },
  {
   "cell_type": "code",
   "execution_count": 1,
   "metadata": {},
   "outputs": [
    {
     "name": "stdout",
     "output_type": "stream",
     "text": [
      "['__builtins__']\n"
     ]
    },
    {
     "ename": "NameError",
     "evalue": "name 'sqrt' is not defined",
     "output_type": "error",
     "traceback": [
      "\u001b[1;31m---------------------------------------------------------------------------\u001b[0m",
      "\u001b[1;31mNameError\u001b[0m                                 Traceback (most recent call last)",
      "\u001b[1;32mc:\\Users\\00824732\\Desktop\\Built-in-properties.ipynb Cell 20\u001b[0m in \u001b[0;36m<module>\u001b[1;34m\u001b[0m\n\u001b[0;32m      <a href='vscode-notebook-cell:/c%3A/Users/00824732/Desktop/Built-in-properties.ipynb#X62sZmlsZQ%3D%3D?line=1'>2</a>\u001b[0m \u001b[39mprint\u001b[39m(\u001b[39meval\u001b[39m(\u001b[39m'\u001b[39m\u001b[39mdir()\u001b[39m\u001b[39m'\u001b[39m, {}))\n\u001b[0;32m      <a href='vscode-notebook-cell:/c%3A/Users/00824732/Desktop/Built-in-properties.ipynb#X62sZmlsZQ%3D%3D?line=3'>4</a>\u001b[0m \u001b[39m# The code will raise an exception\u001b[39;00m\n\u001b[1;32m----> <a href='vscode-notebook-cell:/c%3A/Users/00824732/Desktop/Built-in-properties.ipynb#X62sZmlsZQ%3D%3D?line=4'>5</a>\u001b[0m \u001b[39mprint\u001b[39m(\u001b[39meval\u001b[39;49m(\u001b[39m'\u001b[39;49m\u001b[39msqrt(25)\u001b[39;49m\u001b[39m'\u001b[39;49m, {}))\n\u001b[0;32m      <a href='vscode-notebook-cell:/c%3A/Users/00824732/Desktop/Built-in-properties.ipynb#X62sZmlsZQ%3D%3D?line=5'>6</a>\u001b[0m \u001b[39mfrom\u001b[39;00m \u001b[39mmath\u001b[39;00m \u001b[39mimport\u001b[39;00m \u001b[39m*\u001b[39m\n\u001b[0;32m      <a href='vscode-notebook-cell:/c%3A/Users/00824732/Desktop/Built-in-properties.ipynb#X62sZmlsZQ%3D%3D?line=6'>7</a>\u001b[0m \u001b[39mprint\u001b[39m(\u001b[39meval\u001b[39m(\u001b[39m'\u001b[39m\u001b[39mdir()\u001b[39m\u001b[39m'\u001b[39m, {\u001b[39m'\u001b[39m\u001b[39msqrt\u001b[39m\u001b[39m'\u001b[39m: sqrt, \u001b[39m'\u001b[39m\u001b[39mpow\u001b[39m\u001b[39m'\u001b[39m: \u001b[39mpow\u001b[39m}))\n",
      "File \u001b[1;32m<string>:1\u001b[0m, in \u001b[0;36m<module>\u001b[1;34m\u001b[0m\n",
      "\u001b[1;31mNameError\u001b[0m: name 'sqrt' is not defined"
     ]
    }
   ],
   "source": [
    "from math import *\n",
    "print(eval('dir()', {}))\n",
    "\n",
    "# The code will raise an exception\n",
    "print(eval('sqrt(25)', {}))\n",
    "from math import *\n",
    "print(eval('dir()', {'sqrt': sqrt, 'pow': pow}))"
   ]
  },
  {
   "cell_type": "code",
   "execution_count": null,
   "metadata": {},
   "outputs": [],
   "source": [
    "# type(name, bases, dict)\n",
    "o1 = type('X', (object,), dict(a='Foo', b=12))\n",
    "print(type(o1))\n",
    "\n",
    "print(vars(o1))\n",
    "\n",
    "class test:\n",
    "  a = 'Foo'\n",
    "  b = 12\n",
    "  \n",
    "o2 = type('Y', (test,), dict(a='Foo', b=12))\n",
    "print(type(o2))\n",
    "print(vars(o2))"
   ]
  },
  {
   "cell_type": "code",
   "execution_count": null,
   "metadata": {},
   "outputs": [],
   "source": [
    "# iter(object, sentinel [optional])\n",
    "# list of vowels\n",
    "vowels = [\"a\", \"e\", \"i\", \"o\", \"u\"]\n",
    "\n",
    "# iter() with a list of vowels\n",
    "vowels_iter = iter(vowels)"
   ]
  },
  {
   "cell_type": "code",
   "execution_count": 75,
   "metadata": {},
   "outputs": [
    {
     "data": {
      "text/plain": [
       "(2, 2)"
      ]
     },
     "execution_count": 75,
     "metadata": {},
     "output_type": "execute_result"
    }
   ],
   "source": [
    "# divmod(number1, number2)\n",
    "divmod (8,3)"
   ]
  },
  {
   "cell_type": "code",
   "execution_count": 71,
   "metadata": {},
   "outputs": [
    {
     "name": "stdout",
     "output_type": "stream",
     "text": [
      "435 in hex = 0x1b3\n",
      "0 in hex = 0x0\n",
      "-34 in hex = -0x22\n",
      "Return type from hex() is <class 'str'>\n"
     ]
    }
   ],
   "source": [
    "# hex(x)\n",
    "number = 435\n",
    "print(number, 'in hex =', hex(number))\n",
    "\n",
    "number = 0\n",
    "print(number, 'in hex =', hex(number))\n",
    "\n",
    "number = -34\n",
    "print(number, 'in hex =', hex(number))\n",
    "\n",
    "returnType = type(hex(number))\n",
    "print('Return type from hex() is', returnType)"
   ]
  },
  {
   "cell_type": "code",
   "execution_count": 69,
   "metadata": {},
   "outputs": [
    {
     "name": "stdout",
     "output_type": "stream",
     "text": [
      "Hash for 181 is: 181\n",
      "Hash for 181.23 is: 530343892119126197\n",
      "Hash for Python is: 76093896934754373\n"
     ]
    }
   ],
   "source": [
    "# hash(object)\n",
    "print('Hash for 181 is:', hash(181))\n",
    "\n",
    "# hash for decimal\n",
    "print('Hash for 181.23 is:',hash(181.23))\n",
    "\n",
    "# hash for string\n",
    "print('Hash for Python is:', hash('Python'))"
   ]
  },
  {
   "cell_type": "code",
   "execution_count": null,
   "metadata": {},
   "outputs": [],
   "source": [
    "# __import__(name, globals=None, locals=None, fromlist=(), level=0)\n",
    "mathematics = __import__('math', globals(), locals(), [], 0)\n",
    "print(mathematics.fabs(-2.5))"
   ]
  },
  {
   "cell_type": "code",
   "execution_count": 68,
   "metadata": {},
   "outputs": [
    {
     "name": "stdout",
     "output_type": "stream",
     "text": [
      "['u', 'o', 'i', 'e', 'a']\n"
     ]
    },
    {
     "ename": "NameError",
     "evalue": "name 'participant_list' is not defined",
     "output_type": "error",
     "traceback": [
      "\u001b[1;31m---------------------------------------------------------------------------\u001b[0m",
      "\u001b[1;31mNameError\u001b[0m                                 Traceback (most recent call last)",
      "\u001b[1;32mUntitled-1.ipynb Cell 16\u001b[0m in \u001b[0;36m<module>\u001b[1;34m\u001b[0m\n\u001b[0;32m      <a href='vscode-notebook-cell:Untitled-1.ipynb?jupyter-notebook#X46sdW50aXRsZWQ%3D?line=7'>8</a>\u001b[0m     age \u001b[39m=\u001b[39m item[\u001b[39m2\u001b[39m]\n\u001b[0;32m      <a href='vscode-notebook-cell:Untitled-1.ipynb?jupyter-notebook#X46sdW50aXRsZWQ%3D?line=8'>9</a>\u001b[0m     \u001b[39mreturn\u001b[39;00m (error, age)\n\u001b[1;32m---> <a href='vscode-notebook-cell:Untitled-1.ipynb?jupyter-notebook#X46sdW50aXRsZWQ%3D?line=11'>12</a>\u001b[0m sorted_list \u001b[39m=\u001b[39m \u001b[39msorted\u001b[39m(participant_list, key\u001b[39m=\u001b[39msorter)\n\u001b[0;32m     <a href='vscode-notebook-cell:Untitled-1.ipynb?jupyter-notebook#X46sdW50aXRsZWQ%3D?line=12'>13</a>\u001b[0m \u001b[39mprint\u001b[39m(sorted_list)\n",
      "\u001b[1;31mNameError\u001b[0m: name 'participant_list' is not defined"
     ]
    }
   ],
   "source": [
    "# # Python sorted()\n",
    "# sorted(iterable, key=None, reverse=False)\n",
    "py_dict = {'e': 1, 'a': 2, 'u': 3, 'o': 4, 'i': 5}\n",
    "print(sorted(py_dict, reverse=True))\n",
    "def sorter(item):\n",
    "    # Since highest marks first, least error = most marks\n",
    "    error = 100 - item[1]\n",
    "    age = item[2]\n",
    "    return (error, age)\n",
    "\n",
    "\n",
    "sorted_list = sorted(participant_list, key=sorter)\n",
    "print(sorted_list)"
   ]
  },
  {
   "cell_type": "code",
   "execution_count": null,
   "metadata": {},
   "outputs": [],
   "source": [
    "# compile(source, filename, mode)\n",
    "## mode - exec (can take a code block with statements, class and functions ), eval (accepts single expression) or single (has a single interactive statement)\n",
    "codeInString = 'a = 5\\nb=6\\nmul=a*b\\nprint(\"mul =\",mul)'\n",
    "codeObject = compile(codeInString, 'sumstring', 'exec')\n",
    "\n",
    "exec(codeObject)    "
   ]
  },
  {
   "cell_type": "code",
   "execution_count": 64,
   "metadata": {},
   "outputs": [
    {
     "data": {
      "text/plain": [
       "4"
      ]
     },
     "execution_count": 64,
     "metadata": {},
     "output_type": "execute_result"
    }
   ],
   "source": [
    "# #next()\n",
    "# next(iterator, default)\n",
    "items=[4,5,6,7]\n",
    "result=iter(items)\n",
    "next(result)"
   ]
  },
  {
   "cell_type": "code",
   "execution_count": 61,
   "metadata": {},
   "outputs": [],
   "source": [
    "# exec(object, globals, locals)\n",
    "# get an entire program as input\n",
    "program = input('Enter a program:')\n",
    "\n",
    "# execute the program\n",
    "exec(program)"
   ]
  },
  {
   "cell_type": "code",
   "execution_count": 60,
   "metadata": {},
   "outputs": [
    {
     "name": "stdout",
     "output_type": "stream",
     "text": [
      "{'__name__': '__main__', '__doc__': 'Automatically created module for IPython interactive environment', '__package__': None, '__loader__': None, '__spec__': None, '__builtin__': <module 'builtins' (built-in)>, '__builtins__': <module 'builtins' (built-in)>, '_ih': ['', \"boolean_list = ['True', 'True', 'True']\\nresult=all(boolean_list)\", \"boolean_list = ['True', 'True', 'True']\\nresult=all(boolean_list)\", \"boolean_list = ['True', 'True', 'True']\\nresult=all(boolean_list)\\nresult\", \"boolean_list = ['True', 'True', 'True']\\nresult=all(boolean_list)\\n*result\", \"boolean_list = ['True', 'True', 'True']\\nresult=all(boolean_list)\\nprint(*result)\", \"boolean_list = ['True', 'True', 'True']\\nresult=all(boolean_list)\\nprint(result)\", \"boolean_list = ['True', 'True', 'True']\\nresult=all(boolean_list)\\nprint(result)\\ns = {0: 'False', 1: 'False'}\\nprint(all(s))\\ns = {1: 'True', 2: 'True'}\\nprint(all(s))\\ns = {1: 'True', False: 0}\\nprint(all(s))\", 'all(iterable)', 'marks = [65, 71, 68, 74, 61]\\n\\n# find sum of all marks\\ntotal_marks = sum(marks)\\nprint(total_marks)', 'marks = [65, 71, 68, 74, 61]\\n\\n# find sum of all marks\\ntotal_marks = sum(marks)\\nprint(total_marks,10)', 'marks = [65, 71, 68, 74, 61]\\n\\n# find sum of all marks\\ntotal_marks = sum(marks)\\nprint(marks,10)', 'marks = [65, 71, 68, 74, 61]\\n\\n# find sum of all marks\\ntotal_marks = sum(marks)\\nprint(marks,10)\\nnumbers=[4.5,5.5]\\ntotal_marks=sum(numbers,1)', 'marks = [65, 71, 68, 74, 61]\\n\\n# find sum of all marks\\ntotal_marks = sum(marks)\\nprint(marks,10)\\nnumbers=[4.5,5.5]\\ntotal_marks=sum(numbers,1)\\nprint(total_marks)', \"#getattr\\nclass student:\\n    marks=99\\n    name='peter'\\nperson=student()\\ngetattr(person,'name')\", 'format(123.4567898, \"f\"))', 'format(123.4567898, \"f\")', 'format(123.4567898, \"d\")', 'format(123.4567898, \"f\")', 'format(123, \"d\")', 'format(123, \"*>+7,d\")', \"class person:\\n    def __format__(self,format):\\n        if(format=='age'):\\n            return '23'\\n        else:\\n            return None\", \"class person:\\n    def __format__(self,format):\\n        if(format=='age'):\\n            return '23'\\n        else:\\n            return None\\nprint(format(person(),age))\", 'class person:\\n    def __format__(self,format):\\n        if(format==\\'age\\'):\\n            return \\'23\\'\\n        else:\\n            return None\\nprint(format(person(),\"age\"))', 'print(chr(97))\\nprint(chr(65))\\nprint(chr(1200))', '## # list of vowels\\nvowels = [\"a\", \"e\", \"i\", \"o\", \"u\"]\\nvowels_iter=iter(vowels)\\nnext(vowels_iter)', '## # list of vowels\\nvowels = [\"a\", \"e\", \"i\", \"o\", \"u\"]\\nvowels_iter=iter(vowels)\\nnext(vowels_iter)\\nnext(vowels_iter)', \"# # help()\\n# help(object)\\nhelp('print')\", \"#hasattr\\nclass car:\\n    brand='fiat'\\n    price=23\\ncars=car()\\nhasattr(cars,brand)\", \"#hasattr\\nclass car:\\n    brand='fiat'\\n    price=23\\ncars=car()\\nhasattr(cars,'brand')\", '# round(number, ndigits)\\nround(10.7)', '# round(number, ndigits)\\nround(10.7.2)', '# round(number, ndigits)\\nround(10.7,2)', '# round(number, ndigits)\\nround(10.7,1)', 'from decimal import Decimal', \"from decimal import Decimal\\nnum = Decimal('2.675')\\nprint(round(num, 2))\", '## vars', '## vars\\n# returns __dict__ of a list\\nprint(vars(list))', 'string = \"Jones\"\\n\\n# vars() with a string\\nprint(vars(string))', 'string = \"Jones\"\\n# vars() with a string\\nprint(vars(string))', 'class Fruits:\\n    def __init__(self,apple=5,banan=10):\\n        self.apple=apple\\n        self.banana=banana\\neat=Fruits()\\nprint(vars(eat))', 'class Fruits:\\n    def __init__(self,apple=5,banana=10):\\n        self.apple=apple\\n        self.banana=banana\\neat=Fruits()\\nprint(vars(eat))', \"# str(object, encoding='utf-8', errors='strict')\\nname=str('peter')\\nname\", \"# # tuple(iterable)\\n# tuple() Parameters\\n# iterable\\u200b (optional) - an iterable (list, range, etc.) or an iterator object\\n# creating a tuple from a list\\nt2 = tuple([1, 4, 6])\\nprint('t2 =', t2)\", 'test = object()\\n\\nprint(type(test))\\nprint(dir(test))', '##enumerate\\ntest = object()\\n\\nprint(type(test))\\nprint(dir(test))', \"##enumerate\\ngrocery = ['bread', 'milk', 'butter']\\n\\nfor item in enumerate(grocery):\\n  print(item)\", '# # delattr(object, name)\\n# delattr() Parameters\\n# delattr() takes two parameters:\\n\\n# object - the object from which name attribute is to be removed\\n# name -  a string which must be the name of the attribute to be removed from the object\\n\\nclass Coordinate:\\n  x = 10\\n  y = -5\\n  z = 0\\n\\npoint1 = Coordinate() \\npoint1.z', '# # delattr(object, name)\\n# delattr() Parameters\\n# delattr() takes two parameters:\\n\\n# object - the object from which name attribute is to be removed\\n# name -  a string which must be the name of the attribute to be removed from the object\\n\\nclass Coordinate:\\n  x = 10\\n  y = -5\\n  z = 0\\n\\npoint1 = Coordinate() \\ndelattr(Coordinate,point1.z)', \"# # delattr(object, name)\\n# delattr() Parameters\\n# delattr() takes two parameters:\\n\\n# object - the object from which name attribute is to be removed\\n# name -  a string which must be the name of the attribute to be removed from the object\\n\\nclass Coordinate:\\n  x = 10\\n  y = -5\\n  z = 0\\n\\npoint1 = Coordinate() \\ndelattr(Coordinate,'z')\", '## bool(argument)\\nbool(23)', \"# ord(ch)\\nprint(ord('a'))\", \"# setattr(object, name, value)\\nclass Person:\\n    name = 'Adam'\\n    \\np = Person()\\nprint('Before modification:', p.name)\\n\\n# setting name to 'John'\\nsetattr(p, 'name', 'John')\", \"# setattr(object, name, value)\\nclass Person:\\n    name = 'Adam'\\n    \\np = Person()\\nprint('Before modification:', p.name)\\n\\n# setting name to 'John'\\nsetattr(p, 'name', 'John')\\n\\nprint('After modification:', p.name)\", \"# setattr(object, name, value)\\nclass Person:\\n    name = 'Adam'\\n    \\np = Person()\\nprint('Before modification:', p.name)\\n\\n# setting name to 'John'\\nsetattr(p, 'name', 'John')\\n\\nprint('After modification:', p.name)\\nprint('After modification:', p.name)\\n\\nprint('After modification:', p.name)\", '# # print() Parameters\\n# objects - object to the printed. * indicates that there may be more than one object\\n# sep - objects are separated by sep. Default value: \\' \\'\\n# end - end is printed at last\\n# file - must be an object with write(string) method. If omitted, sys.stdout will be used which prints objects on the screen.\\n# flush - If True, the stream is forcibly flushed. Default value: False\\n\\nprint(\"Python is fun.\")\\n\\na = 5\\n# Two objects are passed\\nprint(\"a =\", a)\\n\\nb = a\\n# Three objects are passed\\nprint(\\'a =\\', a, \\'= b\\')', \"age = 23\\nglobals()['age']=25\\nprint(age)\", \"# zip(*iterables)\\nnumber_list = [1, 2, 3]\\nstr_list = ['one', 'two', 'three']\\n\\n# No iterables are passed\\nresult = zip()\\n\\n# Converting iterator to list\\nresult_list = list(result)\\nprint(result_list)\\n\\n# Two iterables are passed\\nresult = zip(number_list, str_list)\", '# bytes([source[, encoding[, errors]]])\\nstring = \"Python is interesting.\"\\n\\n# string with encoding \\'utf-8\\'\\narr = bytes(string, \\'utf-8\\')\\nprint(arr)', \"# bin()\\nnumber = 15\\n\\n# convert 15 to its binary equivalent \\nprint('The binary equivalent of 15 is', bin(number))\", '# locals()\\nprint(locals())'], '_oh': {3: True, 14: 'peter', 16: '123.456790', 18: '123.456790', 19: '123', 20: '***+123', 25: 'a', 26: 'e', 29: True, 30: 11, 32: 10.7, 33: 10.7, 42: 'peter', 47: 0, 50: True}, '_dh': [WindowsPath('c:/Users/00824732/AppData/Local/Programs/Microsoft VS Code')], 'In': ['', \"boolean_list = ['True', 'True', 'True']\\nresult=all(boolean_list)\", \"boolean_list = ['True', 'True', 'True']\\nresult=all(boolean_list)\", \"boolean_list = ['True', 'True', 'True']\\nresult=all(boolean_list)\\nresult\", \"boolean_list = ['True', 'True', 'True']\\nresult=all(boolean_list)\\n*result\", \"boolean_list = ['True', 'True', 'True']\\nresult=all(boolean_list)\\nprint(*result)\", \"boolean_list = ['True', 'True', 'True']\\nresult=all(boolean_list)\\nprint(result)\", \"boolean_list = ['True', 'True', 'True']\\nresult=all(boolean_list)\\nprint(result)\\ns = {0: 'False', 1: 'False'}\\nprint(all(s))\\ns = {1: 'True', 2: 'True'}\\nprint(all(s))\\ns = {1: 'True', False: 0}\\nprint(all(s))\", 'all(iterable)', 'marks = [65, 71, 68, 74, 61]\\n\\n# find sum of all marks\\ntotal_marks = sum(marks)\\nprint(total_marks)', 'marks = [65, 71, 68, 74, 61]\\n\\n# find sum of all marks\\ntotal_marks = sum(marks)\\nprint(total_marks,10)', 'marks = [65, 71, 68, 74, 61]\\n\\n# find sum of all marks\\ntotal_marks = sum(marks)\\nprint(marks,10)', 'marks = [65, 71, 68, 74, 61]\\n\\n# find sum of all marks\\ntotal_marks = sum(marks)\\nprint(marks,10)\\nnumbers=[4.5,5.5]\\ntotal_marks=sum(numbers,1)', 'marks = [65, 71, 68, 74, 61]\\n\\n# find sum of all marks\\ntotal_marks = sum(marks)\\nprint(marks,10)\\nnumbers=[4.5,5.5]\\ntotal_marks=sum(numbers,1)\\nprint(total_marks)', \"#getattr\\nclass student:\\n    marks=99\\n    name='peter'\\nperson=student()\\ngetattr(person,'name')\", 'format(123.4567898, \"f\"))', 'format(123.4567898, \"f\")', 'format(123.4567898, \"d\")', 'format(123.4567898, \"f\")', 'format(123, \"d\")', 'format(123, \"*>+7,d\")', \"class person:\\n    def __format__(self,format):\\n        if(format=='age'):\\n            return '23'\\n        else:\\n            return None\", \"class person:\\n    def __format__(self,format):\\n        if(format=='age'):\\n            return '23'\\n        else:\\n            return None\\nprint(format(person(),age))\", 'class person:\\n    def __format__(self,format):\\n        if(format==\\'age\\'):\\n            return \\'23\\'\\n        else:\\n            return None\\nprint(format(person(),\"age\"))', 'print(chr(97))\\nprint(chr(65))\\nprint(chr(1200))', '## # list of vowels\\nvowels = [\"a\", \"e\", \"i\", \"o\", \"u\"]\\nvowels_iter=iter(vowels)\\nnext(vowels_iter)', '## # list of vowels\\nvowels = [\"a\", \"e\", \"i\", \"o\", \"u\"]\\nvowels_iter=iter(vowels)\\nnext(vowels_iter)\\nnext(vowels_iter)', \"# # help()\\n# help(object)\\nhelp('print')\", \"#hasattr\\nclass car:\\n    brand='fiat'\\n    price=23\\ncars=car()\\nhasattr(cars,brand)\", \"#hasattr\\nclass car:\\n    brand='fiat'\\n    price=23\\ncars=car()\\nhasattr(cars,'brand')\", '# round(number, ndigits)\\nround(10.7)', '# round(number, ndigits)\\nround(10.7.2)', '# round(number, ndigits)\\nround(10.7,2)', '# round(number, ndigits)\\nround(10.7,1)', 'from decimal import Decimal', \"from decimal import Decimal\\nnum = Decimal('2.675')\\nprint(round(num, 2))\", '## vars', '## vars\\n# returns __dict__ of a list\\nprint(vars(list))', 'string = \"Jones\"\\n\\n# vars() with a string\\nprint(vars(string))', 'string = \"Jones\"\\n# vars() with a string\\nprint(vars(string))', 'class Fruits:\\n    def __init__(self,apple=5,banan=10):\\n        self.apple=apple\\n        self.banana=banana\\neat=Fruits()\\nprint(vars(eat))', 'class Fruits:\\n    def __init__(self,apple=5,banana=10):\\n        self.apple=apple\\n        self.banana=banana\\neat=Fruits()\\nprint(vars(eat))', \"# str(object, encoding='utf-8', errors='strict')\\nname=str('peter')\\nname\", \"# # tuple(iterable)\\n# tuple() Parameters\\n# iterable\\u200b (optional) - an iterable (list, range, etc.) or an iterator object\\n# creating a tuple from a list\\nt2 = tuple([1, 4, 6])\\nprint('t2 =', t2)\", 'test = object()\\n\\nprint(type(test))\\nprint(dir(test))', '##enumerate\\ntest = object()\\n\\nprint(type(test))\\nprint(dir(test))', \"##enumerate\\ngrocery = ['bread', 'milk', 'butter']\\n\\nfor item in enumerate(grocery):\\n  print(item)\", '# # delattr(object, name)\\n# delattr() Parameters\\n# delattr() takes two parameters:\\n\\n# object - the object from which name attribute is to be removed\\n# name -  a string which must be the name of the attribute to be removed from the object\\n\\nclass Coordinate:\\n  x = 10\\n  y = -5\\n  z = 0\\n\\npoint1 = Coordinate() \\npoint1.z', '# # delattr(object, name)\\n# delattr() Parameters\\n# delattr() takes two parameters:\\n\\n# object - the object from which name attribute is to be removed\\n# name -  a string which must be the name of the attribute to be removed from the object\\n\\nclass Coordinate:\\n  x = 10\\n  y = -5\\n  z = 0\\n\\npoint1 = Coordinate() \\ndelattr(Coordinate,point1.z)', \"# # delattr(object, name)\\n# delattr() Parameters\\n# delattr() takes two parameters:\\n\\n# object - the object from which name attribute is to be removed\\n# name -  a string which must be the name of the attribute to be removed from the object\\n\\nclass Coordinate:\\n  x = 10\\n  y = -5\\n  z = 0\\n\\npoint1 = Coordinate() \\ndelattr(Coordinate,'z')\", '## bool(argument)\\nbool(23)', \"# ord(ch)\\nprint(ord('a'))\", \"# setattr(object, name, value)\\nclass Person:\\n    name = 'Adam'\\n    \\np = Person()\\nprint('Before modification:', p.name)\\n\\n# setting name to 'John'\\nsetattr(p, 'name', 'John')\", \"# setattr(object, name, value)\\nclass Person:\\n    name = 'Adam'\\n    \\np = Person()\\nprint('Before modification:', p.name)\\n\\n# setting name to 'John'\\nsetattr(p, 'name', 'John')\\n\\nprint('After modification:', p.name)\", \"# setattr(object, name, value)\\nclass Person:\\n    name = 'Adam'\\n    \\np = Person()\\nprint('Before modification:', p.name)\\n\\n# setting name to 'John'\\nsetattr(p, 'name', 'John')\\n\\nprint('After modification:', p.name)\\nprint('After modification:', p.name)\\n\\nprint('After modification:', p.name)\", '# # print() Parameters\\n# objects - object to the printed. * indicates that there may be more than one object\\n# sep - objects are separated by sep. Default value: \\' \\'\\n# end - end is printed at last\\n# file - must be an object with write(string) method. If omitted, sys.stdout will be used which prints objects on the screen.\\n# flush - If True, the stream is forcibly flushed. Default value: False\\n\\nprint(\"Python is fun.\")\\n\\na = 5\\n# Two objects are passed\\nprint(\"a =\", a)\\n\\nb = a\\n# Three objects are passed\\nprint(\\'a =\\', a, \\'= b\\')', \"age = 23\\nglobals()['age']=25\\nprint(age)\", \"# zip(*iterables)\\nnumber_list = [1, 2, 3]\\nstr_list = ['one', 'two', 'three']\\n\\n# No iterables are passed\\nresult = zip()\\n\\n# Converting iterator to list\\nresult_list = list(result)\\nprint(result_list)\\n\\n# Two iterables are passed\\nresult = zip(number_list, str_list)\", '# bytes([source[, encoding[, errors]]])\\nstring = \"Python is interesting.\"\\n\\n# string with encoding \\'utf-8\\'\\narr = bytes(string, \\'utf-8\\')\\nprint(arr)', \"# bin()\\nnumber = 15\\n\\n# convert 15 to its binary equivalent \\nprint('The binary equivalent of 15 is', bin(number))\", '# locals()\\nprint(locals())'], 'Out': {3: True, 14: 'peter', 16: '123.456790', 18: '123.456790', 19: '123', 20: '***+123', 25: 'a', 26: 'e', 29: True, 30: 11, 32: 10.7, 33: 10.7, 42: 'peter', 47: 0, 50: True}, 'get_ipython': <bound method InteractiveShell.get_ipython of <ipykernel.zmqshell.ZMQInteractiveShell object at 0x000002DE277D4040>>, 'exit': <IPython.core.autocall.ZMQExitAutocall object at 0x000002DE277D4FD0>, 'quit': <IPython.core.autocall.ZMQExitAutocall object at 0x000002DE277D4FD0>, '_': True, '__': 0, '___': 'peter', '__vsc_ipynb_file__': 'Untitled-1.ipynb', '_i': \"# bin()\\nnumber = 15\\n\\n# convert 15 to its binary equivalent \\nprint('The binary equivalent of 15 is', bin(number))\", '_ii': '# bytes([source[, encoding[, errors]]])\\nstring = \"Python is interesting.\"\\n\\n# string with encoding \\'utf-8\\'\\narr = bytes(string, \\'utf-8\\')\\nprint(arr)', '_iii': \"# zip(*iterables)\\nnumber_list = [1, 2, 3]\\nstr_list = ['one', 'two', 'three']\\n\\n# No iterables are passed\\nresult = zip()\\n\\n# Converting iterator to list\\nresult_list = list(result)\\nprint(result_list)\\n\\n# Two iterables are passed\\nresult = zip(number_list, str_list)\", '_i1': \"boolean_list = ['True', 'True', 'True']\\nresult=all(boolean_list)\", 'boolean_list': ['True', 'True', 'True'], 'result': <zip object at 0x000002DE28C06E80>, '_i2': \"boolean_list = ['True', 'True', 'True']\\nresult=all(boolean_list)\", '_i3': \"boolean_list = ['True', 'True', 'True']\\nresult=all(boolean_list)\\nresult\", '_3': True, '_i4': \"boolean_list = ['True', 'True', 'True']\\nresult=all(boolean_list)\\n*result\", '_i5': \"boolean_list = ['True', 'True', 'True']\\nresult=all(boolean_list)\\nprint(*result)\", '_i6': \"boolean_list = ['True', 'True', 'True']\\nresult=all(boolean_list)\\nprint(result)\", '_i7': \"boolean_list = ['True', 'True', 'True']\\nresult=all(boolean_list)\\nprint(result)\\ns = {0: 'False', 1: 'False'}\\nprint(all(s))\\ns = {1: 'True', 2: 'True'}\\nprint(all(s))\\ns = {1: 'True', False: 0}\\nprint(all(s))\", 's': {1: 'True', False: 0}, '_i8': 'all(iterable)', '_i9': 'marks = [65, 71, 68, 74, 61]\\n\\n# find sum of all marks\\ntotal_marks = sum(marks)\\nprint(total_marks)', 'marks': [65, 71, 68, 74, 61], 'total_marks': 11.0, '_i10': 'marks = [65, 71, 68, 74, 61]\\n\\n# find sum of all marks\\ntotal_marks = sum(marks)\\nprint(total_marks,10)', '_i11': 'marks = [65, 71, 68, 74, 61]\\n\\n# find sum of all marks\\ntotal_marks = sum(marks)\\nprint(marks,10)', '_i12': 'marks = [65, 71, 68, 74, 61]\\n\\n# find sum of all marks\\ntotal_marks = sum(marks)\\nprint(marks,10)\\nnumbers=[4.5,5.5]\\ntotal_marks=sum(numbers,1)', 'numbers': [4.5, 5.5], '_i13': 'marks = [65, 71, 68, 74, 61]\\n\\n# find sum of all marks\\ntotal_marks = sum(marks)\\nprint(marks,10)\\nnumbers=[4.5,5.5]\\ntotal_marks=sum(numbers,1)\\nprint(total_marks)', '_i14': \"#getattr\\nclass student:\\n    marks=99\\n    name='peter'\\nperson=student()\\ngetattr(person,'name')\", 'student': <class '__main__.student'>, 'person': <class '__main__.person'>, '_14': 'peter', '_i15': 'format(123.4567898, \"f\"))', '_i16': 'format(123.4567898, \"f\")', '_16': '123.456790', '_i17': 'format(123.4567898, \"d\")', '_i18': 'format(123.4567898, \"f\")', '_18': '123.456790', '_i19': 'format(123, \"d\")', '_19': '123', '_i20': 'format(123, \"*>+7,d\")', '_20': '***+123', '_i21': \"class person:\\n    def __format__(self,format):\\n        if(format=='age'):\\n            return '23'\\n        else:\\n            return None\", '_i22': \"class person:\\n    def __format__(self,format):\\n        if(format=='age'):\\n            return '23'\\n        else:\\n            return None\\nprint(format(person(),age))\", '_i23': 'class person:\\n    def __format__(self,format):\\n        if(format==\\'age\\'):\\n            return \\'23\\'\\n        else:\\n            return None\\nprint(format(person(),\"age\"))', '_i24': 'print(chr(97))\\nprint(chr(65))\\nprint(chr(1200))', '_i25': '## # list of vowels\\nvowels = [\"a\", \"e\", \"i\", \"o\", \"u\"]\\nvowels_iter=iter(vowels)\\nnext(vowels_iter)', 'vowels': ['a', 'e', 'i', 'o', 'u'], 'vowels_iter': <list_iterator object at 0x000002DE27A03D60>, '_25': 'a', '_i26': '## # list of vowels\\nvowels = [\"a\", \"e\", \"i\", \"o\", \"u\"]\\nvowels_iter=iter(vowels)\\nnext(vowels_iter)\\nnext(vowels_iter)', '_26': 'e', '_i27': \"# # help()\\n# help(object)\\nhelp('print')\", '_i28': \"#hasattr\\nclass car:\\n    brand='fiat'\\n    price=23\\ncars=car()\\nhasattr(cars,brand)\", 'car': <class '__main__.car'>, 'cars': <__main__.car object at 0x000002DE27B217F0>, '_i29': \"#hasattr\\nclass car:\\n    brand='fiat'\\n    price=23\\ncars=car()\\nhasattr(cars,'brand')\", '_29': True, '_i30': '# round(number, ndigits)\\nround(10.7)', '_30': 11, '_i31': '# round(number, ndigits)\\nround(10.7.2)', '_i32': '# round(number, ndigits)\\nround(10.7,2)', '_32': 10.7, '_i33': '# round(number, ndigits)\\nround(10.7,1)', '_33': 10.7, '_i34': 'from decimal import Decimal', 'Decimal': <class 'decimal.Decimal'>, '_i35': \"from decimal import Decimal\\nnum = Decimal('2.675')\\nprint(round(num, 2))\", 'num': Decimal('2.675'), '_i36': '## vars', '_i37': '## vars\\n# returns __dict__ of a list\\nprint(vars(list))', '_i38': 'string = \"Jones\"\\n\\n# vars() with a string\\nprint(vars(string))', 'string': 'Python is interesting.', '_i39': 'string = \"Jones\"\\n# vars() with a string\\nprint(vars(string))', '_i40': 'class Fruits:\\n    def __init__(self,apple=5,banan=10):\\n        self.apple=apple\\n        self.banana=banana\\neat=Fruits()\\nprint(vars(eat))', 'Fruits': <class '__main__.Fruits'>, '_i41': 'class Fruits:\\n    def __init__(self,apple=5,banana=10):\\n        self.apple=apple\\n        self.banana=banana\\neat=Fruits()\\nprint(vars(eat))', 'eat': <__main__.Fruits object at 0x000002DE280C9FA0>, '_i42': \"# str(object, encoding='utf-8', errors='strict')\\nname=str('peter')\\nname\", 'name': 'peter', '_42': 'peter', '_i43': \"# # tuple(iterable)\\n# tuple() Parameters\\n# iterable\\u200b (optional) - an iterable (list, range, etc.) or an iterator object\\n# creating a tuple from a list\\nt2 = tuple([1, 4, 6])\\nprint('t2 =', t2)\", 't2': (1, 4, 6), '_i44': 'test = object()\\n\\nprint(type(test))\\nprint(dir(test))', 'test': <object object at 0x000002DE28BE10D0>, '_i45': '##enumerate\\ntest = object()\\n\\nprint(type(test))\\nprint(dir(test))', '_i46': \"##enumerate\\ngrocery = ['bread', 'milk', 'butter']\\n\\nfor item in enumerate(grocery):\\n  print(item)\", 'grocery': ['bread', 'milk', 'butter'], 'item': (2, 'butter'), '_i47': '# # delattr(object, name)\\n# delattr() Parameters\\n# delattr() takes two parameters:\\n\\n# object - the object from which name attribute is to be removed\\n# name -  a string which must be the name of the attribute to be removed from the object\\n\\nclass Coordinate:\\n  x = 10\\n  y = -5\\n  z = 0\\n\\npoint1 = Coordinate() \\npoint1.z', 'Coordinate': <class '__main__.Coordinate'>, 'point1': <__main__.Coordinate object at 0x000002DE27BDE610>, '_47': 0, '_i48': '# # delattr(object, name)\\n# delattr() Parameters\\n# delattr() takes two parameters:\\n\\n# object - the object from which name attribute is to be removed\\n# name -  a string which must be the name of the attribute to be removed from the object\\n\\nclass Coordinate:\\n  x = 10\\n  y = -5\\n  z = 0\\n\\npoint1 = Coordinate() \\ndelattr(Coordinate,point1.z)', '_i49': \"# # delattr(object, name)\\n# delattr() Parameters\\n# delattr() takes two parameters:\\n\\n# object - the object from which name attribute is to be removed\\n# name -  a string which must be the name of the attribute to be removed from the object\\n\\nclass Coordinate:\\n  x = 10\\n  y = -5\\n  z = 0\\n\\npoint1 = Coordinate() \\ndelattr(Coordinate,'z')\", '_i50': '## bool(argument)\\nbool(23)', '_50': True, '_i51': \"# ord(ch)\\nprint(ord('a'))\", '_i52': \"# setattr(object, name, value)\\nclass Person:\\n    name = 'Adam'\\n    \\np = Person()\\nprint('Before modification:', p.name)\\n\\n# setting name to 'John'\\nsetattr(p, 'name', 'John')\", 'Person': <class '__main__.Person'>, 'p': <__main__.Person object at 0x000002DE280D5D90>, '_i53': \"# setattr(object, name, value)\\nclass Person:\\n    name = 'Adam'\\n    \\np = Person()\\nprint('Before modification:', p.name)\\n\\n# setting name to 'John'\\nsetattr(p, 'name', 'John')\\n\\nprint('After modification:', p.name)\", '_i54': \"# setattr(object, name, value)\\nclass Person:\\n    name = 'Adam'\\n    \\np = Person()\\nprint('Before modification:', p.name)\\n\\n# setting name to 'John'\\nsetattr(p, 'name', 'John')\\n\\nprint('After modification:', p.name)\\nprint('After modification:', p.name)\\n\\nprint('After modification:', p.name)\", '_i55': '# # print() Parameters\\n# objects - object to the printed. * indicates that there may be more than one object\\n# sep - objects are separated by sep. Default value: \\' \\'\\n# end - end is printed at last\\n# file - must be an object with write(string) method. If omitted, sys.stdout will be used which prints objects on the screen.\\n# flush - If True, the stream is forcibly flushed. Default value: False\\n\\nprint(\"Python is fun.\")\\n\\na = 5\\n# Two objects are passed\\nprint(\"a =\", a)\\n\\nb = a\\n# Three objects are passed\\nprint(\\'a =\\', a, \\'= b\\')', 'a': 5, 'b': 5, '_i56': \"age = 23\\nglobals()['age']=25\\nprint(age)\", 'age': 25, '_i57': \"# zip(*iterables)\\nnumber_list = [1, 2, 3]\\nstr_list = ['one', 'two', 'three']\\n\\n# No iterables are passed\\nresult = zip()\\n\\n# Converting iterator to list\\nresult_list = list(result)\\nprint(result_list)\\n\\n# Two iterables are passed\\nresult = zip(number_list, str_list)\", 'number_list': [1, 2, 3], 'str_list': ['one', 'two', 'three'], 'result_list': [], '_i58': '# bytes([source[, encoding[, errors]]])\\nstring = \"Python is interesting.\"\\n\\n# string with encoding \\'utf-8\\'\\narr = bytes(string, \\'utf-8\\')\\nprint(arr)', 'arr': b'Python is interesting.', '_i59': \"# bin()\\nnumber = 15\\n\\n# convert 15 to its binary equivalent \\nprint('The binary equivalent of 15 is', bin(number))\", 'number': 15, '_i60': '# locals()\\nprint(locals())'}\n"
     ]
    }
   ],
   "source": [
    "# locals()\n",
    "print(locals())"
   ]
  },
  {
   "cell_type": "code",
   "execution_count": 56,
   "metadata": {},
   "outputs": [
    {
     "name": "stdout",
     "output_type": "stream",
     "text": [
      "49.0\n"
     ]
    }
   ],
   "source": [
    "# # pow(number, power, modulus [optional])\n",
    "# The pow() method takes three parameters:\n",
    "\n",
    "# number- the base value that is raised to a certain power\n",
    "# power - the exponent value that raises number\n",
    "# modulus - (optional) divides the result of number paused to a power and finds the remainder: number^power% modulus\n",
    "x = 7\n",
    "y = 2\n",
    "z = 5\n",
    "\n",
    "# compute  x^y % z\n",
    "print(pow(x, y))    "
   ]
  },
  {
   "cell_type": "code",
   "execution_count": 60,
   "metadata": {},
   "outputs": [
    {
     "name": "stdout",
     "output_type": "stream",
     "text": [
      "[1, 4, 9, 16]\n",
      "<map object at 0x0000027505C3A5E0>\n"
     ]
    }
   ],
   "source": [
    "# map(function, iterable, ...)\n",
    "def calculateSquare(n):\n",
    "    return n*n\n",
    "\n",
    "\n",
    "numbers = (1, 2, 3, 4)\n",
    "result = map(calculateSquare, numbers)\n",
    "print(list(result))\n",
    "numbers = (1, 2, 3, 4)\n",
    "result = map(lambda x: x*x, numbers)\n",
    "print(result)"
   ]
  },
  {
   "cell_type": "code",
   "execution_count": 61,
   "metadata": {},
   "outputs": [
    {
     "name": "stdout",
     "output_type": "stream",
     "text": [
      "int(123) is: 123\n",
      "int(123.23) is: 123\n",
      "int('123') is: 123\n"
     ]
    }
   ],
   "source": [
    "# int(value, base [optional])\n",
    "# int() with an integer value\n",
    "print(\"int(123) is:\", int(123))\n",
    "\n",
    "# int() with a floating point value\n",
    "print(\"int(123.23) is:\", int(123.23))\n",
    "\n",
    "# int() with a numeric-string value\n",
    "print(\"int('123') is:\", int(\"123\"))"
   ]
  },
  {
   "cell_type": "code",
   "execution_count": 62,
   "metadata": {},
   "outputs": [
    {
     "name": "stdout",
     "output_type": "stream",
     "text": [
      "[2, 4, 6, 8, 10]\n"
     ]
    }
   ],
   "source": [
    "\n",
    "# # returns True if the argument passed is even\n",
    "# filter(function, iterable)\n",
    "def check_even(number):\n",
    "    if number % 2 == 0:\n",
    "          return True  \n",
    "\n",
    "    return False\n",
    "\n",
    "\n",
    "numbers = [1, 2, 3, 4, 5, 6, 7, 8, 9, 10]\n",
    "\n",
    "# if an element passed to check_even() returns True, select it\n",
    "even_numbers_iterator = filter(check_even, numbers)\n",
    "\n",
    "# converting to list\n",
    "even_numbers = list(even_numbers_iterator)\n",
    "\n",
    "print(even_numbers)\n"
   ]
  },
  {
   "cell_type": "code",
   "execution_count": 63,
   "metadata": {},
   "outputs": [
    {
     "data": {
      "text/plain": [
       "['n', 'o', 'h', 't', 'y', 'P']"
      ]
     },
     "execution_count": 63,
     "metadata": {},
     "output_type": "execute_result"
    }
   ],
   "source": [
    "# reversed(sequence_object)\n",
    "seq_tuple = ('P', 'y', 't', 'h', 'o', 'n')\n",
    "list(reversed(seq_tuple))"
   ]
  },
  {
   "cell_type": "code",
   "execution_count": 64,
   "metadata": {},
   "outputs": [
    {
     "name": "stdout",
     "output_type": "stream",
     "text": [
      "['u', 'o', 'i', 'e', 'a']\n"
     ]
    }
   ],
   "source": [
    "class Vowels:\n",
    "    vowels = ['a', 'e', 'i', 'o', 'u']\n",
    "\n",
    "    def __reversed__(self):\n",
    "        return reversed(self.vowels)\n",
    "\n",
    "v = Vowels()\n",
    "\n",
    "# reverse a custom object v\n",
    "print(list(reversed(v)))"
   ]
  },
  {
   "cell_type": "code",
   "execution_count": 65,
   "metadata": {},
   "outputs": [
    {
     "name": "stdout",
     "output_type": "stream",
     "text": [
      "[2, 3, 4]\n"
     ]
    }
   ],
   "source": [
    "# range(start, stop, step)\n",
    "# numbers from 2 to 4 (5 is not included)\n",
    "numbers = range(2, 5)\n",
    "print(list(numbers))"
   ]
  },
  {
   "cell_type": "code",
   "execution_count": null,
   "metadata": {},
   "outputs": [],
   "source": [
    "class Person:\n",
    "    age = 23\n",
    "\n",
    "    def __index__(self):\n",
    "        return self.age\n",
    "\n",
    "    # def __int__(self):\n",
    "    #     return self.age\n",
    "\n",
    "person = Person()\n",
    "\n",
    "# int() method with a non integer object person\n",
    "print(\"int(person) is:\", int(person))"
   ]
  },
  {
   "cell_type": "code",
   "execution_count": 66,
   "metadata": {},
   "outputs": [
    {
     "data": {
      "text/plain": [
       "2703376607664"
      ]
     },
     "execution_count": 66,
     "metadata": {},
     "output_type": "execute_result"
    }
   ],
   "source": [
    "# id(object)\n",
    "## If both the values are same then id's will also be same.\n",
    "a=5\n",
    "id(a)"
   ]
  },
  {
   "cell_type": "code",
   "execution_count": null,
   "metadata": {},
   "outputs": [],
   "source": [
    "# repr(obj)\n",
    "\n",
    "numbers = [1, 2, 3, 4, 5]\n",
    "\n",
    "# create a printable representation of the list\n",
    "printable_numbers = repr(numbers)\n",
    "print(printable_numbers)"
   ]
  },
  {
   "cell_type": "code",
   "execution_count": 57,
   "metadata": {},
   "outputs": [
    {
     "name": "stdout",
     "output_type": "stream",
     "text": [
      "'\\u221a represents square root'\n",
      "'Th\\xf6r is coming'\n"
     ]
    }
   ],
   "source": [
    "# ascii(object)\n",
    "text1 = '√ represents square root'\n",
    "\n",
    "# replace √ with ascii value \n",
    "print(ascii(text1))\n",
    "\n",
    "text2 = 'Thör is coming'\n",
    "\n",
    "# replace ö with ascii value \n",
    "print(ascii(text2))"
   ]
  },
  {
   "cell_type": "code",
   "execution_count": 54,
   "metadata": {},
   "outputs": [
    {
     "name": "stdout",
     "output_type": "stream",
     "text": [
      "The smallest string is: C Programming\n"
     ]
    }
   ],
   "source": [
    "# min(iterable, *iterables, key, default)\n",
    "languages = [\"Python\", \"C Programming\", \"Java\", \"JavaScript\"]\n",
    "smallest_string = min(languages);\n",
    "\n",
    "print(\"The smallest string is:\", smallest_string)"
   ]
  },
  {
   "cell_type": "code",
   "execution_count": 53,
   "metadata": {},
   "outputs": [
    {
     "name": "stdout",
     "output_type": "stream",
     "text": [
      "25.0\n"
     ]
    }
   ],
   "source": [
    "# float()\n",
    "int_number = 25\n",
    "\n",
    "# convert int to float\n",
    "float_number = float(int_number)\n",
    "print(float_number)\n",
    "\n",
    "# Output: 25.0"
   ]
  },
  {
   "cell_type": "code",
   "execution_count": 52,
   "metadata": {},
   "outputs": [
    {
     "name": "stdout",
     "output_type": "stream",
     "text": [
      "34\n",
      "9\n"
     ]
    }
   ],
   "source": [
    "numbers = [9, 34, 11, -4, 27]\n",
    "print(max(numbers))\n",
    "# # to find the largest item in an iterable\n",
    "# max(iterable, *iterables, key, default)\n",
    "square={2:4,-3:9}\n",
    "key2=max(square,key=lambda k:square[k])\n",
    "print(square[key2])"
   ]
  },
  {
   "cell_type": "code",
   "execution_count": 47,
   "metadata": {},
   "outputs": [
    {
     "data": {
      "text/plain": [
       "True"
      ]
     },
     "execution_count": 47,
     "metadata": {},
     "output_type": "execute_result"
    }
   ],
   "source": [
    "#any\n",
    "\n",
    "boolean_list = ['True', 'False', 'True']\n",
    "any(boolean_list)"
   ]
  },
  {
   "cell_type": "code",
   "execution_count": 45,
   "metadata": {},
   "outputs": [
    {
     "name": "stdout",
     "output_type": "stream",
     "text": [
      "True\n",
      "False\n",
      "True\n",
      "True\n"
     ]
    }
   ],
   "source": [
    "# # issubclass(class, classinfo)\n",
    "# issubclass() returns:\n",
    "\n",
    "# True if class is subclass of a class, or any element of the tuple\n",
    "# False otherwise\n",
    "class Polygon:\n",
    "      def __init__(polygonType):\n",
    "            print('Polygon is a ', polygonType)\n",
    "\n",
    "class Triangle(Polygon):\n",
    "  def __init__(self):\n",
    "\n",
    "    Polygon.__init__('triangle')\n",
    "print(issubclass(Triangle, Polygon))\n",
    "print(issubclass(Triangle, list))\n",
    "print(issubclass(Triangle, (list, Polygon)))\n",
    "print(issubclass(Polygon, (list, Polygon)))"
   ]
  },
  {
   "cell_type": "code",
   "execution_count": 59,
   "metadata": {},
   "outputs": [
    {
     "name": "stdout",
     "output_type": "stream",
     "text": [
      "The binary equivalent of 15 is 0b1111\n"
     ]
    }
   ],
   "source": [
    "# bin()\n",
    "number = 15\n",
    "\n",
    "# convert 15 to its binary equivalent \n",
    "print('The binary equivalent of 15 is', bin(number))"
   ]
  },
  {
   "cell_type": "code",
   "execution_count": null,
   "metadata": {},
   "outputs": [],
   "source": [
    "# len(s)\n",
    "class Session:\n",
    "    def __init__(self, number = 0):\n",
    "      self.number = number\n",
    "    \n",
    "    def __len__(self):\n",
    "      return self.number\n",
    "\n",
    "\n",
    "# default length is 0\n",
    "s1 = Session()\n",
    "print(len(s1))\n",
    "\n",
    "# giving custom length\n",
    "s2 = Session(6)\n",
    "print(len(s2))"
   ]
  },
  {
   "cell_type": "code",
   "execution_count": 46,
   "metadata": {},
   "outputs": [
    {
     "name": "stdout",
     "output_type": "stream",
     "text": [
      "True\n",
      "False\n",
      "True\n"
     ]
    }
   ],
   "source": [
    "# isinstance(object, classinfo)\n",
    "class Foo:\n",
    "      a = 5\n",
    "  \n",
    "fooInstance = Foo()\n",
    "\n",
    "print(isinstance(fooInstance, Foo))\n",
    "print(isinstance(fooInstance, (list, tuple)))\n",
    "print(isinstance(fooInstance, (list, tuple, Foo)))"
   ]
  },
  {
   "cell_type": "code",
   "execution_count": 58,
   "metadata": {},
   "outputs": [
    {
     "name": "stdout",
     "output_type": "stream",
     "text": [
      "b'Python is interesting.'\n"
     ]
    }
   ],
   "source": [
    "# bytes([source[, encoding[, errors]]])\n",
    "string = \"Python is interesting.\"\n",
    "\n",
    "# string with encoding 'utf-8'\n",
    "arr = bytes(string, 'utf-8')\n",
    "print(arr)"
   ]
  },
  {
   "cell_type": "code",
   "execution_count": 57,
   "metadata": {},
   "outputs": [
    {
     "name": "stdout",
     "output_type": "stream",
     "text": [
      "[]\n"
     ]
    }
   ],
   "source": [
    "# zip(*iterables)\n",
    "number_list = [1, 2, 3]\n",
    "str_list = ['one', 'two', 'three']\n",
    "\n",
    "# No iterables are passed\n",
    "result = zip()\n",
    "\n",
    "# Converting iterator to list\n",
    "result_list = list(result)\n",
    "print(result_list)\n",
    "\n",
    "# Two iterables are passed\n",
    "result = zip(number_list, str_list)"
   ]
  },
  {
   "cell_type": "code",
   "execution_count": 51,
   "metadata": {},
   "outputs": [
    {
     "name": "stdout",
     "output_type": "stream",
     "text": [
      "97\n"
     ]
    }
   ],
   "source": [
    "# ord(ch)\n",
    "print(ord('a'))"
   ]
  },
  {
   "cell_type": "code",
   "execution_count": 50,
   "metadata": {},
   "outputs": [
    {
     "data": {
      "text/plain": [
       "True"
      ]
     },
     "execution_count": 50,
     "metadata": {},
     "output_type": "execute_result"
    }
   ],
   "source": [
    "## bool(argument)\n",
    "bool(23)"
   ]
  },
  {
   "cell_type": "code",
   "execution_count": null,
   "metadata": {},
   "outputs": [],
   "source": [
    "# The setattr() function takes three parameters:\n",
    "\n",
    "# object - object whose attribute has to be set\n",
    "# name - attribute name\n",
    "# value - value given to the attribute\n"
   ]
  },
  {
   "cell_type": "code",
   "execution_count": 46,
   "metadata": {},
   "outputs": [
    {
     "name": "stdout",
     "output_type": "stream",
     "text": [
      "(0, 'bread')\n",
      "(1, 'milk')\n",
      "(2, 'butter')\n"
     ]
    }
   ],
   "source": [
    "# # ##enumerate\n",
    "# # enumerate(iterable, start=0)\n",
    "# iterable - a sequence, an iterator, or objects that support iteration\n",
    "# start (optional) - enumerate() starts counting from this number. If start is omitted, 0 is taken as start.\n",
    "grocery = ['bread', 'milk', 'butter']\n",
    "\n",
    "for item in enumerate(grocery):\n",
    "  print(item)"
   ]
  },
  {
   "cell_type": "code",
   "execution_count": null,
   "metadata": {},
   "outputs": [],
   "source": []
  },
  {
   "cell_type": "code",
   "execution_count": 44,
   "metadata": {},
   "outputs": [
    {
     "name": "stdout",
     "output_type": "stream",
     "text": [
      "<class 'object'>\n",
      "['__class__', '__delattr__', '__dir__', '__doc__', '__eq__', '__format__', '__ge__', '__getattribute__', '__gt__', '__hash__', '__init__', '__init_subclass__', '__le__', '__lt__', '__ne__', '__new__', '__reduce__', '__reduce_ex__', '__repr__', '__setattr__', '__sizeof__', '__str__', '__subclasshook__']\n"
     ]
    }
   ],
   "source": [
    "test = object()\n",
    "\n",
    "print(type(test))\n",
    "print(dir(test))"
   ]
  },
  {
   "cell_type": "code",
   "execution_count": 43,
   "metadata": {},
   "outputs": [
    {
     "name": "stdout",
     "output_type": "stream",
     "text": [
      "t2 = (1, 4, 6)\n"
     ]
    }
   ],
   "source": [
    "# # tuple(iterable)\n",
    "# tuple() Parameters\n",
    "# iterable​ (optional) - an iterable (list, range, etc.) or an iterator object\n",
    "# creating a tuple from a list\n",
    "t2 = tuple([1, 4, 6])\n",
    "print('t2 =', t2)"
   ]
  },
  {
   "cell_type": "code",
   "execution_count": 42,
   "metadata": {},
   "outputs": [
    {
     "data": {
      "text/plain": [
       "'peter'"
      ]
     },
     "execution_count": 42,
     "metadata": {},
     "output_type": "execute_result"
    }
   ],
   "source": [
    "# str(object, encoding='utf-8', errors='strict')\n",
    "name=str('peter')\n",
    "name"
   ]
  },
  {
   "cell_type": "code",
   "execution_count": 41,
   "metadata": {},
   "outputs": [
    {
     "name": "stdout",
     "output_type": "stream",
     "text": [
      "{'apple': 5, 'banana': 10}\n"
     ]
    }
   ],
   "source": [
    "class Fruits:\n",
    "    def __init__(self,apple=5,banana=10):\n",
    "        self.apple=apple\n",
    "        self.banana=banana\n",
    "eat=Fruits()\n",
    "print(vars(eat))"
   ]
  },
  {
   "cell_type": "code",
   "execution_count": 37,
   "metadata": {},
   "outputs": [
    {
     "name": "stdout",
     "output_type": "stream",
     "text": [
      "{'__repr__': <slot wrapper '__repr__' of 'list' objects>, '__hash__': None, '__getattribute__': <slot wrapper '__getattribute__' of 'list' objects>, '__lt__': <slot wrapper '__lt__' of 'list' objects>, '__le__': <slot wrapper '__le__' of 'list' objects>, '__eq__': <slot wrapper '__eq__' of 'list' objects>, '__ne__': <slot wrapper '__ne__' of 'list' objects>, '__gt__': <slot wrapper '__gt__' of 'list' objects>, '__ge__': <slot wrapper '__ge__' of 'list' objects>, '__iter__': <slot wrapper '__iter__' of 'list' objects>, '__init__': <slot wrapper '__init__' of 'list' objects>, '__len__': <slot wrapper '__len__' of 'list' objects>, '__getitem__': <method '__getitem__' of 'list' objects>, '__setitem__': <slot wrapper '__setitem__' of 'list' objects>, '__delitem__': <slot wrapper '__delitem__' of 'list' objects>, '__add__': <slot wrapper '__add__' of 'list' objects>, '__mul__': <slot wrapper '__mul__' of 'list' objects>, '__rmul__': <slot wrapper '__rmul__' of 'list' objects>, '__contains__': <slot wrapper '__contains__' of 'list' objects>, '__iadd__': <slot wrapper '__iadd__' of 'list' objects>, '__imul__': <slot wrapper '__imul__' of 'list' objects>, '__new__': <built-in method __new__ of type object at 0x00007FF935461AF0>, '__reversed__': <method '__reversed__' of 'list' objects>, '__sizeof__': <method '__sizeof__' of 'list' objects>, 'clear': <method 'clear' of 'list' objects>, 'copy': <method 'copy' of 'list' objects>, 'append': <method 'append' of 'list' objects>, 'insert': <method 'insert' of 'list' objects>, 'extend': <method 'extend' of 'list' objects>, 'pop': <method 'pop' of 'list' objects>, 'remove': <method 'remove' of 'list' objects>, 'index': <method 'index' of 'list' objects>, 'count': <method 'count' of 'list' objects>, 'reverse': <method 'reverse' of 'list' objects>, 'sort': <method 'sort' of 'list' objects>, '__class_getitem__': <method '__class_getitem__' of 'list' objects>, '__doc__': 'Built-in mutable sequence.\\n\\nIf no argument is given, the constructor creates a new empty list.\\nThe argument must be an iterable if specified.'}\n"
     ]
    }
   ],
   "source": [
    "## vars\n",
    "# returns __dict__ of a list\n",
    "print(vars(list))"
   ]
  },
  {
   "cell_type": "code",
   "execution_count": 29,
   "metadata": {},
   "outputs": [
    {
     "data": {
      "text/plain": [
       "True"
      ]
     },
     "execution_count": 29,
     "metadata": {},
     "output_type": "execute_result"
    }
   ],
   "source": [
    "#hasattr\n",
    "class car:\n",
    "    brand='fiat'\n",
    "    price=23\n",
    "cars=car()\n",
    "hasattr(cars,'brand')"
   ]
  },
  {
   "cell_type": "code",
   "execution_count": 26,
   "metadata": {},
   "outputs": [
    {
     "data": {
      "text/plain": [
       "'e'"
      ]
     },
     "execution_count": 26,
     "metadata": {},
     "output_type": "execute_result"
    }
   ],
   "source": [
    "## # list of vowels\n",
    "vowels = [\"a\", \"e\", \"i\", \"o\", \"u\"]\n",
    "vowels_iter=iter(vowels)\n",
    "next(vowels_iter)\n",
    "next(vowels_iter)"
   ]
  }
 ],
 "metadata": {
  "kernelspec": {
   "display_name": "Python 3",
   "language": "python",
   "name": "python3"
  },
  "language_info": {
   "codemirror_mode": {
    "name": "ipython",
    "version": 3
   },
   "file_extension": ".py",
   "mimetype": "text/x-python",
   "name": "python",
   "nbconvert_exporter": "python",
   "pygments_lexer": "ipython3",
   "version": "3.9.13"
  },
  "orig_nbformat": 4,
  "vscode": {
   "interpreter": {
    "hash": "1e57b5609a0adf6ef8af7ad6d2063e8e9c24ef6935f7306ae9ba467b68a2bc1a"
   }
  }
 },
 "nbformat": 4,
 "nbformat_minor": 2
}
