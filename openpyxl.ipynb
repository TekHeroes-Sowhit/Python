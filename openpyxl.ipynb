{
 "cells": [
  {
   "cell_type": "code",
   "execution_count": 2,
   "metadata": {},
   "outputs": [],
   "source": [
    "import os\n",
    "os.getcwd()\n",
    "os.chdir(r'C:\\Users/00824732\\Desktop')"
   ]
  },
  {
   "cell_type": "code",
   "execution_count": 3,
   "metadata": {},
   "outputs": [],
   "source": [
    "import openpyxl"
   ]
  },
  {
   "cell_type": "code",
   "execution_count": 34,
   "metadata": {},
   "outputs": [
    {
     "name": "stdout",
     "output_type": "stream",
     "text": [
      "98\n"
     ]
    }
   ],
   "source": [
    "import openpyxl\n",
    "path = \"C:/Users/00824732/Desktop/Historicalinvesttemp.xlsx\"\n",
    "wb_obj = openpyxl.load_workbook(path)\n",
    "sheet_obj = wb_obj.active\n",
    "print(sheet_obj.max_row)"
   ]
  },
  {
   "cell_type": "code",
   "execution_count": 36,
   "metadata": {},
   "outputs": [
    {
     "name": "stdout",
     "output_type": "stream",
     "text": [
      "7\n"
     ]
    }
   ],
   "source": [
    "import openpyxl\n",
    "# Give the location of the file\n",
    "path = \"C:/Users/00824732/Desktop/Historicalinvesttemp.xlsx\"\n",
    "# workbook object is created\n",
    "wb_obj = openpyxl.load_workbook(path)\n",
    "sheet_obj = wb_obj.active\n",
    "# print total number of column\n",
    "print(sheet_obj.max_column)"
   ]
  },
  {
   "cell_type": "markdown",
   "metadata": {},
   "source": [
    "## To print all the column names"
   ]
  },
  {
   "cell_type": "code",
   "execution_count": 41,
   "metadata": {},
   "outputs": [
    {
     "name": "stdout",
     "output_type": "stream",
     "text": [
      "None\n",
      "None\n",
      "None\n",
      "None\n",
      "None\n",
      "None\n",
      "None\n"
     ]
    }
   ],
   "source": [
    "import openpyxl\n",
    "path = \"C:/Users/00824732/Desktop/Historicalinvesttemp.xlsx\"\n",
    "wb_obj = openpyxl.load_workbook(path)\n",
    "sheet_obj = wb_obj.active\n",
    "max_col = sheet_obj.max_column\n",
    "for i in range(1, max_col + 1):\n",
    "    cell_obj = sheet_obj.cell(row = 1, column = i)\n",
    "    print(cell_obj.value)"
   ]
  },
  {
   "cell_type": "markdown",
   "metadata": {},
   "source": [
    "## To prin the row names"
   ]
  },
  {
   "cell_type": "code",
   "execution_count": 43,
   "metadata": {},
   "outputs": [
    {
     "name": "stdout",
     "output_type": "stream",
     "text": [
      "None\n",
      "None\n",
      "None\n",
      "None\n",
      "None\n",
      "None\n",
      "Year\n",
      "1928\n",
      "1929\n",
      "1930\n",
      "1931\n",
      "1932\n",
      "1933\n",
      "1934\n",
      "1935\n",
      "1936\n",
      "1937\n",
      "1938\n",
      "1939\n",
      "1940\n",
      "1941\n",
      "1942\n",
      "1943\n",
      "1944\n",
      "1945\n",
      "1946\n",
      "1947\n",
      "1948\n",
      "1949\n",
      "1950\n",
      "1951\n",
      "1952\n",
      "1953\n",
      "1954\n",
      "1955\n",
      "1956\n",
      "1957\n",
      "1958\n",
      "1959\n",
      "1960\n",
      "1961\n",
      "1962\n",
      "1963\n",
      "1964\n",
      "1965\n",
      "1966\n",
      "1967\n",
      "1968\n",
      "1969\n",
      "1970\n",
      "1971\n",
      "1972\n",
      "1973\n",
      "1974\n",
      "1975\n",
      "1976\n",
      "1977\n",
      "1978\n",
      "1979\n",
      "1980\n",
      "1981\n",
      "1982\n",
      "1983\n",
      "1984\n",
      "1985\n",
      "1986\n",
      "1987\n",
      "1988\n",
      "1989\n",
      "1990\n",
      "1991\n",
      "1992\n",
      "1993\n",
      "1994\n",
      "1995\n",
      "1996\n",
      "1997\n",
      "1998\n",
      "1999\n",
      "2000\n",
      "2001\n",
      "2002\n",
      "2003\n",
      "2004\n",
      "2005\n",
      "2006\n",
      "2007\n",
      "2008\n",
      "2009\n",
      "None\n",
      "averages\n",
      "None\n",
      "None\n",
      "None\n",
      "None\n",
      "None\n",
      "None\n",
      "None\n"
     ]
    }
   ],
   "source": [
    "# importing openpyxl module\n",
    "import openpyxl\n",
    "path = \"C:/Users/00824732/Desktop/Historicalinvesttemp.xlsx\"\n",
    "wb_obj = openpyxl.load_workbook(path)\n",
    "sheet_obj = wb_obj.active\n",
    "m_row = sheet_obj.max_row\n",
    "for i in range(1, m_row + 1):\n",
    "    cell_obj = sheet_obj.cell(row = i, column = 1)\n",
    "    print(cell_obj.value)"
   ]
  },
  {
   "cell_type": "code",
   "execution_count": 44,
   "metadata": {},
   "outputs": [
    {
     "name": "stdout",
     "output_type": "stream",
     "text": [
      "new1\n"
     ]
    }
   ],
   "source": [
    "sheet_obj.title='new'\n",
    "print(sheet_obj.title)\n",
    "workbook.create_sheet(index=1,title=\"new sheet\")\n",
    "workbook.save(\"new_2.xlsx\")"
   ]
  },
  {
   "cell_type": "markdown",
   "metadata": {},
   "source": [
    "## Writing into excel"
   ]
  },
  {
   "cell_type": "code",
   "execution_count": 46,
   "metadata": {},
   "outputs": [],
   "source": [
    "import xlsxwriter\n",
    "workbook=xlsxwriter.Workbook('new_practice.xlsx')\n",
    "sheet=workbook.add_worksheet()\n",
    "sheet.write('A1','PETER')\n",
    "sheet.write('A2','James')\n",
    "workbook.close()"
   ]
  },
  {
   "cell_type": "code",
   "execution_count": 47,
   "metadata": {},
   "outputs": [],
   "source": [
    "import warnings\n",
    "warnings.filterwarnings('ignore')\n",
    "row=0\n",
    "column=0\n",
    "content=(['peter',100],['james',100],['peters',500])\n",
    "row=0\n",
    "col=0\n",
    "for name,score in (content):\n",
    "    sheet.write(row,col,name)\n",
    "    sheet.write(row,col+1,score)\n",
    "    row+=1\n",
    "workbook.close()"
   ]
  },
  {
   "cell_type": "markdown",
   "metadata": {},
   "source": [
    "# Writing to an excel sheet"
   ]
  },
  {
   "cell_type": "code",
   "execution_count": 53,
   "metadata": {},
   "outputs": [
    {
     "data": {
      "text/plain": [
       "<Worksheet \"demo sheet2\">"
      ]
     },
     "execution_count": 53,
     "metadata": {},
     "output_type": "execute_result"
    }
   ],
   "source": [
    "# import openpyxl module\n",
    "import openpyxl\n",
    "wb = openpyxl.Workbook()\n",
    "sheet = wb.active\n",
    "wb.create_sheet(index = 1 , title = \"demo sheet2\")\n",
    "#wb.save(\"C:\\\\Users\\\\user\\\\Desktop\\\\demo.xlsx\")"
   ]
  },
  {
   "cell_type": "code",
   "execution_count": 54,
   "metadata": {},
   "outputs": [],
   "source": [
    "import openpyxl\n",
    "workbook_1=openpyxl.load_workbook('new.xlsx')\n",
    "sheet=workbook_1.active\n",
    "c1=sheet.cell(row=1,column=1)\n",
    "c1.value=\"'RAI\"\n",
    "c3=sheet[\"A2\"]\n",
    "c3.value=\"peter\"\n",
    "workbook_1.save('new2.xlsx')"
   ]
  },
  {
   "cell_type": "markdown",
   "metadata": {},
   "source": [
    "## Deleting rows in Excel\n"
   ]
  },
  {
   "cell_type": "code",
   "execution_count": 62,
   "metadata": {},
   "outputs": [
    {
     "ename": "IndentationError",
     "evalue": "unindent does not match any outer indentation level (<tokenize>, line 11)",
     "output_type": "error",
     "traceback": [
      "\u001b[1;36m  File \u001b[1;32m<tokenize>:11\u001b[1;36m\u001b[0m\n\u001b[1;33m    remove(sheet)\u001b[0m\n\u001b[1;37m    ^\u001b[0m\n\u001b[1;31mIndentationError\u001b[0m\u001b[1;31m:\u001b[0m unindent does not match any outer indentation level\n"
     ]
    }
   ],
   "source": [
    "# import openpyxl library\n",
    "import openpyxl\n",
    "\n",
    "# function to remove empty rows\n",
    "\n",
    "def remove(sheet):\n",
    "# iterate the sheet by rows\n",
    "\tfor row in sheet.iter_rows():\n",
    "    \t\tif not all(cell.value for cell in row):\n",
    "    \t\t\t\tsheet.delete_rows(row[0].row, 1)\n",
    "\t\t\tremove(sheet)\n",
    "\n",
    "\treturn\n",
    "\n",
    "\n",
    "if __name__ == '__main__':\n",
    "\n",
    "\t# enter your file path\n",
    "\tpath = \"C:/Users/00824732/Desktop/Historicalinvesttemp.xlsx\"\n",
    "\n",
    "\t# load excel file\n",
    "\tbook = openpyxl.load_workbook(path)\n",
    "\n",
    "\t# select the sheet\n",
    "\tsheet = book['Sheet 1']\n",
    "\n",
    "\tprint(\"Maximum rows before removing:\", sheet.max_row)\n",
    "\n",
    "\t# iterate the sheet\n",
    "\tfor row in sheet:\n",
    "\tremove(sheet)\n",
    "\t\t\n",
    "\tprint(\"Maximum rows after removing:\",sheet.max_row)\n",
    "\n",
    "\t\n",
    "\t# save the file to the path\n",
    "\tpath = './openpy.xlsx'\n",
    "\tbook.save(path)\n"
   ]
  },
  {
   "cell_type": "code",
   "execution_count": 67,
   "metadata": {},
   "outputs": [
    {
     "ename": "TabError",
     "evalue": "inconsistent use of tabs and spaces in indentation (731775735.py, line 5)",
     "output_type": "error",
     "traceback": [
      "\u001b[1;36m  Input \u001b[1;32mIn [67]\u001b[1;36m\u001b[0m\n\u001b[1;33m    sheet.delete_rows(2)\u001b[0m\n\u001b[1;37m    ^\u001b[0m\n\u001b[1;31mTabError\u001b[0m\u001b[1;31m:\u001b[0m inconsistent use of tabs and spaces in indentation\n"
     ]
    }
   ],
   "source": [
    "import openpyxl\n",
    "\n",
    "def delete(sheet):\n",
    "\twhile(sheet.max_row > 1):\n",
    "        sheet.delete_rows(2)\n",
    "if __name__ == '__main__':\n",
    "    path = \"C:/Users/00824732/Desktop/Historicalinvesttemp.xlsx\"\n",
    "\tbook = openpyxl.load_workbook(path)\n",
    "    sheet = book['New']\n",
    "\tprint(\"Maximum rows before removing:\", sheet.max_row)\n",
    "\tdelete(sheet)\n",
    "\tprint(\"Maximum rows after removing:\", sheet.max_row)\n",
    "\tpath = './openpy.xlsx'\n",
    "\tbook.save(path)\n",
    "\n",
    "\n",
    "\t"
   ]
  },
  {
   "cell_type": "markdown",
   "metadata": {},
   "source": [
    "## Plotting charts in excel sheet using openpyxl module"
   ]
  },
  {
   "cell_type": "code",
   "execution_count": 57,
   "metadata": {},
   "outputs": [],
   "source": [
    "from openpyxl.chart import BubbleChart, Reference, Series\n",
    "wb = openpyxl.Workbook()\n",
    "sheet = wb.active\n",
    " \n",
    "rows = [\n",
    "    (\"Number of Products\", \"Sales in USD\", \"Market share\"),\n",
    "    (14, 12200, 15),\n",
    "    (20, 60000, 33),\n",
    "    (18, 24400, 10),\n",
    "    (22, 32000, 42),\n",
    "]\n",
    "for row in rows:\n",
    "    sheet.append(row)\n",
    " \n",
    "# Create object of BubbleChart class\n",
    "chart = BubbleChart()\n",
    " \n",
    "# create data for plotting\n",
    "xvalues = Reference(sheet, min_col = 1,\n",
    "                    min_row = 2, max_row = 5)\n",
    "                     \n",
    "yvalues = Reference(sheet, min_col = 2,\n",
    "                    min_row = 2, max_row = 5)\n",
    "                     \n",
    "size = Reference(sheet, min_col = 3,\n",
    "                min_row = 2, max_row = 5)\n",
    "series = Series(values = yvalues, xvalues = xvalues,\n",
    "                      zvalues = size, title =\"2013\")\n",
    "chart.series.append(series)\n",
    "chart.title = \" BUBBLE-CHART \"\n",
    "chart.x_axis.title = \" X_AXIS \"\n",
    "chart.y_axis.title = \" Y_AXIS \"\n",
    "sheet.add_chart(chart, \"E2\")\n",
    "wb.save(\"bubbleChart.xlsx\")"
   ]
  },
  {
   "cell_type": "markdown",
   "metadata": {},
   "source": [
    "## Plotting chart with xlsxwriter"
   ]
  },
  {
   "cell_type": "code",
   "execution_count": 2,
   "metadata": {},
   "outputs": [
    {
     "name": "stderr",
     "output_type": "stream",
     "text": [
      "C:\\Users\\00824732\\AppData\\Local\\Packages\\PythonSoftwareFoundation.Python.3.9_qbz5n2kfra8p0\\LocalCache\\local-packages\\Python39\\site-packages\\xlsxwriter\\chart.py:836: UserWarning: Sheetname in '= Sheet1 !$B$2:$B$7' contains spaces but isn't quoted. This may cause errors in Excel.\n",
      "  warn(\"Sheetname in '%s' contains spaces but isn't quoted. \"\n",
      "C:\\Users\\00824732\\AppData\\Local\\Packages\\PythonSoftwareFoundation.Python.3.9_qbz5n2kfra8p0\\LocalCache\\local-packages\\Python39\\site-packages\\xlsxwriter\\chart.py:836: UserWarning: Sheetname in '= Sheet1 !$A$2:$A$7' contains spaces but isn't quoted. This may cause errors in Excel.\n",
      "  warn(\"Sheetname in '%s' contains spaces but isn't quoted. \"\n",
      "C:\\Users\\00824732\\AppData\\Local\\Packages\\PythonSoftwareFoundation.Python.3.9_qbz5n2kfra8p0\\LocalCache\\local-packages\\Python39\\site-packages\\xlsxwriter\\chart.py:836: UserWarning: Sheetname in '= Sheet1 !$C$2:$C$7' contains spaces but isn't quoted. This may cause errors in Excel.\n",
      "  warn(\"Sheetname in '%s' contains spaces but isn't quoted. \"\n",
      "C:\\Users\\00824732\\AppData\\Local\\Packages\\PythonSoftwareFoundation.Python.3.9_qbz5n2kfra8p0\\LocalCache\\local-packages\\Python39\\site-packages\\xlsxwriter\\workbook.py:1659: UserWarning: Unknown worksheet reference ' Sheet1 ' in range ' Sheet1 !$A$2:$A$7' passed to add_series()\n",
      "  warn(\"Unknown worksheet reference '%s' in range \"\n",
      "C:\\Users\\00824732\\AppData\\Local\\Packages\\PythonSoftwareFoundation.Python.3.9_qbz5n2kfra8p0\\LocalCache\\local-packages\\Python39\\site-packages\\xlsxwriter\\workbook.py:1659: UserWarning: Unknown worksheet reference ' Sheet1 ' in range ' Sheet1 !$B$2:$B$7' passed to add_series()\n",
      "  warn(\"Unknown worksheet reference '%s' in range \"\n",
      "C:\\Users\\00824732\\AppData\\Local\\Packages\\PythonSoftwareFoundation.Python.3.9_qbz5n2kfra8p0\\LocalCache\\local-packages\\Python39\\site-packages\\xlsxwriter\\workbook.py:1659: UserWarning: Unknown worksheet reference ' Sheet1 ' in range ' Sheet1 !$C$2:$C$7' passed to add_series()\n",
      "  warn(\"Unknown worksheet reference '%s' in range \"\n"
     ]
    }
   ],
   "source": [
    "# import xlsxwriter module\n",
    "import xlsxwriter\n",
    "workbook = xlsxwriter.Workbook('Example3_chart.xlsx')\n",
    "worksheet = workbook.add_worksheet()\n",
    "italic = workbook.add_format({'italic': 1})\n",
    "Data1 = ['Subject', 'Mid Exam Score', 'End Exam Score']\n",
    "Data2 = [\n",
    "\t[\"Math\", \"Physics\", \"Computer\", \"Hindi\", \"English\", \"chemistry\"],\n",
    "\t[95, 78, 80, 80, 60, 90],\n",
    "\t[90, 50, 95, 60, 85, 99]\n",
    "]\n",
    "worksheet.write_row('A1', Data1, italic)\n",
    "worksheet.write_column('A2', Data2[0])\n",
    "worksheet.write_column('B2', Data2[1])\n",
    "worksheet.write_column('C2', Data2[2])\n",
    "worksheet.set_column('B:C', 15)\n",
    "chart3 = workbook.add_chart({'type': 'line'})\n",
    "chart3.add_series({\n",
    "\t'categories': '= Sheet1 !$A$2:$A$7',\n",
    "\t'values':\t '= Sheet1 !$B$2:$B$7',\n",
    "\t'y_error_bars': {'type': 'standard_error'},\n",
    "})\n",
    "chart3.add_series({\n",
    "\t'categories': '= Sheet1 !$A$2:$A$7',\n",
    "\t'values': '= Sheet1 !$C$2:$C$7',\n",
    "})\n",
    "chart3.set_title({'name': 'Exam Score Distribution'})\n",
    "chart3.set_x_axis({'name': 'Subjects'})\n",
    "chart3.set_y_axis({'name': 'Marks'})\n",
    "chart3.set_style(14)\n",
    "worksheet.insert_chart('D2', chart3,\n",
    "\t{'x_offset': 20, 'y_offset': 5})\n",
    "workbook.close()"
   ]
  }
 ],
 "metadata": {
  "kernelspec": {
   "display_name": "Python 3.9.9 64-bit (windows store)",
   "language": "python",
   "name": "python3"
  },
  "language_info": {
   "codemirror_mode": {
    "name": "ipython",
    "version": 3
   },
   "file_extension": ".py",
   "mimetype": "text/x-python",
   "name": "python",
   "nbconvert_exporter": "python",
   "pygments_lexer": "ipython3",
   "version": "3.9.13"
  },
  "orig_nbformat": 4,
  "vscode": {
   "interpreter": {
    "hash": "1e57b5609a0adf6ef8af7ad6d2063e8e9c24ef6935f7306ae9ba467b68a2bc1a"
   }
  }
 },
 "nbformat": 4,
 "nbformat_minor": 2
}
