{
 "cells": [
  {
   "cell_type": "code",
   "execution_count": 22,
   "metadata": {},
   "outputs": [],
   "source": [
    "import pandas as pd\n",
    "import numpy as np\n",
    "import plotly\n",
    "combined=pd.DataFrame()\n",
    "import calendar\n",
    "import plotly as px\n",
    "import matplotlib.pyplot as plt"
   ]
  },
  {
   "cell_type": "code",
   "execution_count": 5,
   "metadata": {},
   "outputs": [],
   "source": [
    "files=['Jan.xlsx','Feb.xlsx','March.xlsx']"
   ]
  },
  {
   "cell_type": "code",
   "execution_count": 6,
   "metadata": {},
   "outputs": [
    {
     "data": {
      "text/plain": [
       "'c:\\\\Users\\\\00824732\\\\Desktop'"
      ]
     },
     "execution_count": 6,
     "metadata": {},
     "output_type": "execute_result"
    }
   ],
   "source": [
    "import os\n",
    "os.getcwd()"
   ]
  },
  {
   "cell_type": "code",
   "execution_count": 17,
   "metadata": {},
   "outputs": [],
   "source": [
    "import calendar\n",
    "for file in files:\n",
    "    df=pd.read_excel(file)\n",
    "    pd.to_datetime(df['Date'])\n",
    "    df['Date']=df['Date'].dt.date\n",
    "    df['Day']=pd.DatetimeIndex(df['Date']).day\n",
    "    df['year']=pd.DatetimeIndex(df['Date']).year\n",
    "    df['month']=pd.DatetimeIndex(df['Date']).month\n",
    "    df['month_name']=df['month'].apply(lambda x:calendar.month_abbr[x])\n",
    "    combined=combined.append(df,ignore_index=True)"
   ]
  },
  {
   "cell_type": "code",
   "execution_count": 23,
   "metadata": {},
   "outputs": [
    {
     "ename": "TypeError",
     "evalue": "bar() got multiple values for argument 'x'",
     "output_type": "error",
     "traceback": [
      "\u001b[1;31m---------------------------------------------------------------------------\u001b[0m",
      "\u001b[1;31mTypeError\u001b[0m                                 Traceback (most recent call last)",
      "\u001b[1;32mc:\\Users\\00824732\\Desktop\\Excel_Automation.ipynb Cell 5\u001b[0m in \u001b[0;36m<module>\u001b[1;34m\u001b[0m\n\u001b[0;32m      <a href='vscode-notebook-cell:/c%3A/Users/00824732/Desktop/Excel_Automation.ipynb#X41sZmlsZQ%3D%3D?line=0'>1</a>\u001b[0m \u001b[39m## create barchart\u001b[39;00m\n\u001b[1;32m----> <a href='vscode-notebook-cell:/c%3A/Users/00824732/Desktop/Excel_Automation.ipynb#X41sZmlsZQ%3D%3D?line=1'>2</a>\u001b[0m fig\u001b[39m=\u001b[39mplt\u001b[39m.\u001b[39;49mbar(combined,x\u001b[39m=\u001b[39;49m\u001b[39m'\u001b[39;49m\u001b[39mMoth_Name\u001b[39;49m\u001b[39m'\u001b[39;49m,Y\u001b[39m=\u001b[39;49m\u001b[39m'\u001b[39;49m\u001b[39mSales\u001b[39;49m\u001b[39m'\u001b[39;49m,title\u001b[39m=\u001b[39;49m\u001b[39m'\u001b[39;49m\u001b[39mSALES Q1 2022\u001b[39;49m\u001b[39m'\u001b[39;49m)\n\u001b[0;32m      <a href='vscode-notebook-cell:/c%3A/Users/00824732/Desktop/Excel_Automation.ipynb#X41sZmlsZQ%3D%3D?line=2'>3</a>\u001b[0m \u001b[39m## SAVING BARCHART\u001b[39;00m\n\u001b[0;32m      <a href='vscode-notebook-cell:/c%3A/Users/00824732/Desktop/Excel_Automation.ipynb#X41sZmlsZQ%3D%3D?line=3'>4</a>\u001b[0m plotly\u001b[39m.\u001b[39moffline\u001b[39m.\u001b[39mplot(fig,file_name\u001b[39m=\u001b[39m\u001b[39m'\u001b[39m\u001b[39mSales Q1 2022\u001b[39m\u001b[39m'\u001b[39m)\n",
      "\u001b[1;31mTypeError\u001b[0m: bar() got multiple values for argument 'x'"
     ]
    }
   ],
   "source": [
    "## create barchart\n",
    "fig=plt.bar(combined,x='Moth_Name',Y='Sales',title='SALES Q1 2022')\n",
    "## SAVING BARCHART\n",
    "plotly.offline.plot(fig,file_name='Sales Q1 2022')\n",
    "combined.to_excel('Sales.10202.xlsx',index=False,sheet_name='peter_1')"
   ]
  },
  {
   "cell_type": "markdown",
   "metadata": {},
   "source": [
    "## Second Example"
   ]
  },
  {
   "cell_type": "code",
   "execution_count": 24,
   "metadata": {},
   "outputs": [],
   "source": [
    "import pandas as pd\n",
    "import numpy as np\n",
    "import matplotlib.pyplot as plt"
   ]
  },
  {
   "cell_type": "code",
   "execution_count": 25,
   "metadata": {},
   "outputs": [],
   "source": [
    "excel_file_one='data.xlsx'\n",
    "excel_file_two='data_one.xlsx'"
   ]
  },
  {
   "cell_type": "code",
   "execution_count": null,
   "metadata": {},
   "outputs": [],
   "source": [
    "df_first_shift=pd.read_excel(excel_file_one,sheet_name='first')\n",
    "df_second_shigt=pd.read_excel(excel_file_one,sheet_name='first')\n",
    "df_third_shift=pd.read_excel(excel_file_one,sheet_name='first')"
   ]
  },
  {
   "cell_type": "code",
   "execution_count": null,
   "metadata": {},
   "outputs": [],
   "source": [
    "print(df_first_shift['Product'])"
   ]
  },
  {
   "cell_type": "code",
   "execution_count": null,
   "metadata": {},
   "outputs": [],
   "source": [
    "df_all=pd.concat([df_first_shift,df_second_shigt,df_third_shift])\n",
    "print(df_all)"
   ]
  },
  {
   "cell_type": "code",
   "execution_count": null,
   "metadata": {},
   "outputs": [],
   "source": [
    "pivot=df.groupby(['Shift']).mean()\n",
    "shift_productivty=pivot.loc[:,\"column_name1\",\"column_name2\"]"
   ]
  },
  {
   "cell_type": "code",
   "execution_count": null,
   "metadata": {},
   "outputs": [],
   "source": [
    "print(shift_productivty)\n",
    "shift_productivty.plot(kind=\"bar\")\n",
    "plt.show()"
   ]
  },
  {
   "cell_type": "code",
   "execution_count": null,
   "metadata": {},
   "outputs": [],
   "source": [
    "df_all.to_excel(\"output.xlsx\")"
   ]
  },
  {
   "cell_type": "markdown",
   "metadata": {},
   "source": [
    "## Automate Excel With Python - Python Excel Tutorial (OpenPyXL)"
   ]
  },
  {
   "cell_type": "code",
   "execution_count": 1,
   "metadata": {},
   "outputs": [
    {
     "data": {
      "text/plain": [
       "'c:\\\\Users\\\\00824732\\\\Desktop'"
      ]
     },
     "execution_count": 1,
     "metadata": {},
     "output_type": "execute_result"
    }
   ],
   "source": [
    "import os\n",
    "os.getcwd()"
   ]
  },
  {
   "cell_type": "code",
   "execution_count": 8,
   "metadata": {},
   "outputs": [],
   "source": [
    "from openpyxl import Workbook,load_workbook\n",
    "wb=load_workbook('Grades.xlsx')\n",
    "ws=wb.active\n",
    "ws.title=\"new\""
   ]
  },
  {
   "cell_type": "code",
   "execution_count": 9,
   "metadata": {},
   "outputs": [
    {
     "name": "stdout",
     "output_type": "stream",
     "text": [
      "None\n"
     ]
    }
   ],
   "source": [
    "print(ws['A2'].value)"
   ]
  },
  {
   "cell_type": "code",
   "execution_count": 10,
   "metadata": {},
   "outputs": [
    {
     "name": "stdout",
     "output_type": "stream",
     "text": [
      "['new', 'Test']\n"
     ]
    }
   ],
   "source": [
    "ws['A2']='James'\n",
    "wb.save(\"grades_change.xlsx\")\n",
    "wb.create_sheet(\"Test\")\n",
    "print(wb.sheetnames)"
   ]
  },
  {
   "cell_type": "markdown",
   "metadata": {},
   "source": [
    "## Second workbook"
   ]
  },
  {
   "cell_type": "code",
   "execution_count": 11,
   "metadata": {},
   "outputs": [],
   "source": [
    "from openpyxl.utils import get_column_letter"
   ]
  },
  {
   "cell_type": "code",
   "execution_count": 12,
   "metadata": {},
   "outputs": [],
   "source": [
    "wb_one=Workbook()\n",
    "ws_one=wb_one.active    \n",
    "ws_one.title='new'\n",
    "ws_one.append(['Tim','is','great'])\n",
    "wb.save(\"new_one.xlsx\")"
   ]
  },
  {
   "cell_type": "code",
   "execution_count": 13,
   "metadata": {},
   "outputs": [
    {
     "name": "stdout",
     "output_type": "stream",
     "text": [
      "None\n",
      "None\n",
      "None\n",
      "None\n",
      "James\n",
      "None\n",
      "None\n",
      "None\n",
      "None\n",
      "None\n",
      "None\n",
      "None\n",
      "None\n",
      "None\n",
      "None\n",
      "None\n"
     ]
    }
   ],
   "source": [
    "for row in range(1,5):\n",
    "    for col in range(1,5):\n",
    "        chart=get_column_letter(col)\n",
    "        print(ws[chart+str(row)].value)\n",
    "wb.save(\"new_two.xlsx\")"
   ]
  },
  {
   "cell_type": "code",
   "execution_count": 14,
   "metadata": {},
   "outputs": [],
   "source": [
    "for row in range(1,5):\n",
    "    for col in range(1,5):\n",
    "        chart=get_column_letter(col)\n",
    "        ws[chart+str(row)]=chart+str(row)\n",
    "\n",
    "ws.merge_cells(\"A1:C2\")\n",
    "ws.unmerge_cells(\"A1:C2\")\n",
    "wb.save(\"new_two.xlsx\")"
   ]
  },
  {
   "cell_type": "markdown",
   "metadata": {},
   "source": [
    "## Main Example"
   ]
  },
  {
   "cell_type": "code",
   "execution_count": 16,
   "metadata": {},
   "outputs": [],
   "source": [
    "from openpyxl.utils import get_column_letter\n",
    "from openpyxl.styles import Font"
   ]
  },
  {
   "cell_type": "code",
   "execution_count": 17,
   "metadata": {},
   "outputs": [],
   "source": [
    "data={\n",
    "    \"Joe\":{\n",
    "        \"math\":65,\n",
    "        \"science\":78,\n",
    "        \"english\":23\n",
    "    }\n",
    "}"
   ]
  },
  {
   "cell_type": "code",
   "execution_count": 18,
   "metadata": {},
   "outputs": [],
   "source": [
    "wb_two=Workbook()\n",
    "ws=wb_two.active\n",
    "headings=['Name']+list(data['Joe'].keys())\n",
    "ws.append(headings)\n",
    "for person in data:\n",
    "    grades=list(data[person].values())\n",
    "    ws.append([person]+grades)\n",
    "wb.save('new_three.xlsx')"
   ]
  },
  {
   "cell_type": "code",
   "execution_count": null,
   "metadata": {},
   "outputs": [],
   "source": [
    "for col in range(2,len(data['Joe'])+2):\n",
    "    chart=get_column_letter(col)\n",
    "    ws[char+\"7\"]=f\"=SUM({chart+ '2'}:{chart+'6'})/{len(data)}\"\n",
    "\n",
    "wb.save(\"new_four.xlsx\")\n"
   ]
  },
  {
   "cell_type": "code",
   "execution_count": 20,
   "metadata": {},
   "outputs": [],
   "source": [
    "for col in range(1,6):\n",
    "    ws[get_column_letter(col)+'1'].font=Font(bold=True)"
   ]
  }
 ],
 "metadata": {
  "kernelspec": {
   "display_name": "Python 3.9.9 64-bit (windows store)",
   "language": "python",
   "name": "python3"
  },
  "language_info": {
   "codemirror_mode": {
    "name": "ipython",
    "version": 3
   },
   "file_extension": ".py",
   "mimetype": "text/x-python",
   "name": "python",
   "nbconvert_exporter": "python",
   "pygments_lexer": "ipython3",
   "version": "3.9.13"
  },
  "orig_nbformat": 4,
  "vscode": {
   "interpreter": {
    "hash": "1e57b5609a0adf6ef8af7ad6d2063e8e9c24ef6935f7306ae9ba467b68a2bc1a"
   }
  }
 },
 "nbformat": 4,
 "nbformat_minor": 2
}
