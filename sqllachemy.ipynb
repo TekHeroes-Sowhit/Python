{
 "cells": [
  {
   "cell_type": "code",
   "execution_count": 1,
   "metadata": {},
   "outputs": [],
   "source": [
    "import sqlalchemy\n",
    "from sqlalchemy import create_engine,Integer,String,Table,Column,MetaData,Column,text,select"
   ]
  },
  {
   "cell_type": "code",
   "execution_count": 2,
   "metadata": {},
   "outputs": [],
   "source": [
    "meta=MetaData()\n",
    "students=Table('students',meta,\n",
    "Column('id',Integer),\n",
    "Column('name',String))"
   ]
  },
  {
   "cell_type": "code",
   "execution_count": 3,
   "metadata": {},
   "outputs": [],
   "source": [
    "engine=create_engine('sqlite:///college.db', echo = True)"
   ]
  },
  {
   "cell_type": "code",
   "execution_count": 4,
   "metadata": {},
   "outputs": [
    {
     "name": "stdout",
     "output_type": "stream",
     "text": [
      "2022-06-09 23:34:32,382 INFO sqlalchemy.engine.Engine INSERT INTO students (id, name) VALUES (?, ?)\n",
      "2022-06-09 23:34:32,383 INFO sqlalchemy.engine.Engine [generated in 0.00065s] (23, 'peter')\n",
      "2022-06-09 23:34:32,384 INFO sqlalchemy.engine.Engine ROLLBACK\n"
     ]
    },
    {
     "ename": "OperationalError",
     "evalue": "(sqlite3.OperationalError) no such table: students\n[SQL: INSERT INTO students (id, name) VALUES (?, ?)]\n[parameters: (23, 'peter')]\n(Background on this error at: https://sqlalche.me/e/14/e3q8)",
     "output_type": "error",
     "traceback": [
      "\u001b[1;31m---------------------------------------------------------------------------\u001b[0m",
      "\u001b[1;31mOperationalError\u001b[0m                          Traceback (most recent call last)",
      "File \u001b[1;32mc:\\Users\\00824732\\AppData\\Local\\Programs\\Python\\Python310\\lib\\site-packages\\sqlalchemy\\engine\\base.py:1819\u001b[0m, in \u001b[0;36mConnection._execute_context\u001b[1;34m(self, dialect, constructor, statement, parameters, execution_options, *args, **kw)\u001b[0m\n\u001b[0;32m   <a href='file:///c%3A/Users/00824732/AppData/Local/Programs/Python/Python310/lib/site-packages/sqlalchemy/engine/base.py?line=1817'>1818</a>\u001b[0m     \u001b[39mif\u001b[39;00m \u001b[39mnot\u001b[39;00m evt_handled:\n\u001b[1;32m-> <a href='file:///c%3A/Users/00824732/AppData/Local/Programs/Python/Python310/lib/site-packages/sqlalchemy/engine/base.py?line=1818'>1819</a>\u001b[0m         \u001b[39mself\u001b[39;49m\u001b[39m.\u001b[39;49mdialect\u001b[39m.\u001b[39;49mdo_execute(\n\u001b[0;32m   <a href='file:///c%3A/Users/00824732/AppData/Local/Programs/Python/Python310/lib/site-packages/sqlalchemy/engine/base.py?line=1819'>1820</a>\u001b[0m             cursor, statement, parameters, context\n\u001b[0;32m   <a href='file:///c%3A/Users/00824732/AppData/Local/Programs/Python/Python310/lib/site-packages/sqlalchemy/engine/base.py?line=1820'>1821</a>\u001b[0m         )\n\u001b[0;32m   <a href='file:///c%3A/Users/00824732/AppData/Local/Programs/Python/Python310/lib/site-packages/sqlalchemy/engine/base.py?line=1822'>1823</a>\u001b[0m \u001b[39mif\u001b[39;00m \u001b[39mself\u001b[39m\u001b[39m.\u001b[39m_has_events \u001b[39mor\u001b[39;00m \u001b[39mself\u001b[39m\u001b[39m.\u001b[39mengine\u001b[39m.\u001b[39m_has_events:\n",
      "File \u001b[1;32mc:\\Users\\00824732\\AppData\\Local\\Programs\\Python\\Python310\\lib\\site-packages\\sqlalchemy\\engine\\default.py:732\u001b[0m, in \u001b[0;36mDefaultDialect.do_execute\u001b[1;34m(self, cursor, statement, parameters, context)\u001b[0m\n\u001b[0;32m    <a href='file:///c%3A/Users/00824732/AppData/Local/Programs/Python/Python310/lib/site-packages/sqlalchemy/engine/default.py?line=730'>731</a>\u001b[0m \u001b[39mdef\u001b[39;00m \u001b[39mdo_execute\u001b[39m(\u001b[39mself\u001b[39m, cursor, statement, parameters, context\u001b[39m=\u001b[39m\u001b[39mNone\u001b[39;00m):\n\u001b[1;32m--> <a href='file:///c%3A/Users/00824732/AppData/Local/Programs/Python/Python310/lib/site-packages/sqlalchemy/engine/default.py?line=731'>732</a>\u001b[0m     cursor\u001b[39m.\u001b[39;49mexecute(statement, parameters)\n",
      "\u001b[1;31mOperationalError\u001b[0m: no such table: students",
      "\nThe above exception was the direct cause of the following exception:\n",
      "\u001b[1;31mOperationalError\u001b[0m                          Traceback (most recent call last)",
      "\u001b[1;32mc:\\Users\\00824732\\Desktop\\Files\\sqllachemy.ipynb Cell 4'\u001b[0m in \u001b[0;36m<module>\u001b[1;34m\u001b[0m\n\u001b[0;32m      <a href='vscode-notebook-cell:/c%3A/Users/00824732/Desktop/Files/sqllachemy.ipynb#ch0000003?line=0'>1</a>\u001b[0m conn\u001b[39m=\u001b[39mengine\u001b[39m.\u001b[39mconnect()\n\u001b[0;32m      <a href='vscode-notebook-cell:/c%3A/Users/00824732/Desktop/Files/sqllachemy.ipynb#ch0000003?line=1'>2</a>\u001b[0m ins\u001b[39m=\u001b[39mstudents\u001b[39m.\u001b[39minsert()\u001b[39m.\u001b[39mvalues(\u001b[39mid\u001b[39m\u001b[39m=\u001b[39m\u001b[39m23\u001b[39m,name\u001b[39m=\u001b[39m\u001b[39m'\u001b[39m\u001b[39mpeter\u001b[39m\u001b[39m'\u001b[39m)\n\u001b[1;32m----> <a href='vscode-notebook-cell:/c%3A/Users/00824732/Desktop/Files/sqllachemy.ipynb#ch0000003?line=2'>3</a>\u001b[0m result\u001b[39m=\u001b[39mconn\u001b[39m.\u001b[39;49mexecute(ins)\n\u001b[0;32m      <a href='vscode-notebook-cell:/c%3A/Users/00824732/Desktop/Files/sqllachemy.ipynb#ch0000003?line=3'>4</a>\u001b[0m \u001b[39m##stmt=students().delete().where(student.c.lastname='peter')\u001b[39;00m\n\u001b[0;32m      <a href='vscode-notebook-cell:/c%3A/Users/00824732/Desktop/Files/sqllachemy.ipynb#ch0000003?line=4'>5</a>\u001b[0m conn\u001b[39m.\u001b[39mexecute(s)\u001b[39m.\u001b[39mfetchall()\n",
      "File \u001b[1;32mc:\\Users\\00824732\\AppData\\Local\\Programs\\Python\\Python310\\lib\\site-packages\\sqlalchemy\\engine\\base.py:1306\u001b[0m, in \u001b[0;36mConnection.execute\u001b[1;34m(self, statement, *multiparams, **params)\u001b[0m\n\u001b[0;32m   <a href='file:///c%3A/Users/00824732/AppData/Local/Programs/Python/Python310/lib/site-packages/sqlalchemy/engine/base.py?line=1301'>1302</a>\u001b[0m     util\u001b[39m.\u001b[39mraise_(\n\u001b[0;32m   <a href='file:///c%3A/Users/00824732/AppData/Local/Programs/Python/Python310/lib/site-packages/sqlalchemy/engine/base.py?line=1302'>1303</a>\u001b[0m         exc\u001b[39m.\u001b[39mObjectNotExecutableError(statement), replace_context\u001b[39m=\u001b[39merr\n\u001b[0;32m   <a href='file:///c%3A/Users/00824732/AppData/Local/Programs/Python/Python310/lib/site-packages/sqlalchemy/engine/base.py?line=1303'>1304</a>\u001b[0m     )\n\u001b[0;32m   <a href='file:///c%3A/Users/00824732/AppData/Local/Programs/Python/Python310/lib/site-packages/sqlalchemy/engine/base.py?line=1304'>1305</a>\u001b[0m \u001b[39melse\u001b[39;00m:\n\u001b[1;32m-> <a href='file:///c%3A/Users/00824732/AppData/Local/Programs/Python/Python310/lib/site-packages/sqlalchemy/engine/base.py?line=1305'>1306</a>\u001b[0m     \u001b[39mreturn\u001b[39;00m meth(\u001b[39mself\u001b[39;49m, multiparams, params, _EMPTY_EXECUTION_OPTS)\n",
      "File \u001b[1;32mc:\\Users\\00824732\\AppData\\Local\\Programs\\Python\\Python310\\lib\\site-packages\\sqlalchemy\\sql\\elements.py:325\u001b[0m, in \u001b[0;36mClauseElement._execute_on_connection\u001b[1;34m(self, connection, multiparams, params, execution_options, _force)\u001b[0m\n\u001b[0;32m    <a href='file:///c%3A/Users/00824732/AppData/Local/Programs/Python/Python310/lib/site-packages/sqlalchemy/sql/elements.py?line=320'>321</a>\u001b[0m \u001b[39mdef\u001b[39;00m \u001b[39m_execute_on_connection\u001b[39m(\n\u001b[0;32m    <a href='file:///c%3A/Users/00824732/AppData/Local/Programs/Python/Python310/lib/site-packages/sqlalchemy/sql/elements.py?line=321'>322</a>\u001b[0m     \u001b[39mself\u001b[39m, connection, multiparams, params, execution_options, _force\u001b[39m=\u001b[39m\u001b[39mFalse\u001b[39;00m\n\u001b[0;32m    <a href='file:///c%3A/Users/00824732/AppData/Local/Programs/Python/Python310/lib/site-packages/sqlalchemy/sql/elements.py?line=322'>323</a>\u001b[0m ):\n\u001b[0;32m    <a href='file:///c%3A/Users/00824732/AppData/Local/Programs/Python/Python310/lib/site-packages/sqlalchemy/sql/elements.py?line=323'>324</a>\u001b[0m     \u001b[39mif\u001b[39;00m _force \u001b[39mor\u001b[39;00m \u001b[39mself\u001b[39m\u001b[39m.\u001b[39msupports_execution:\n\u001b[1;32m--> <a href='file:///c%3A/Users/00824732/AppData/Local/Programs/Python/Python310/lib/site-packages/sqlalchemy/sql/elements.py?line=324'>325</a>\u001b[0m         \u001b[39mreturn\u001b[39;00m connection\u001b[39m.\u001b[39;49m_execute_clauseelement(\n\u001b[0;32m    <a href='file:///c%3A/Users/00824732/AppData/Local/Programs/Python/Python310/lib/site-packages/sqlalchemy/sql/elements.py?line=325'>326</a>\u001b[0m             \u001b[39mself\u001b[39;49m, multiparams, params, execution_options\n\u001b[0;32m    <a href='file:///c%3A/Users/00824732/AppData/Local/Programs/Python/Python310/lib/site-packages/sqlalchemy/sql/elements.py?line=326'>327</a>\u001b[0m         )\n\u001b[0;32m    <a href='file:///c%3A/Users/00824732/AppData/Local/Programs/Python/Python310/lib/site-packages/sqlalchemy/sql/elements.py?line=327'>328</a>\u001b[0m     \u001b[39melse\u001b[39;00m:\n\u001b[0;32m    <a href='file:///c%3A/Users/00824732/AppData/Local/Programs/Python/Python310/lib/site-packages/sqlalchemy/sql/elements.py?line=328'>329</a>\u001b[0m         \u001b[39mraise\u001b[39;00m exc\u001b[39m.\u001b[39mObjectNotExecutableError(\u001b[39mself\u001b[39m)\n",
      "File \u001b[1;32mc:\\Users\\00824732\\AppData\\Local\\Programs\\Python\\Python310\\lib\\site-packages\\sqlalchemy\\engine\\base.py:1498\u001b[0m, in \u001b[0;36mConnection._execute_clauseelement\u001b[1;34m(self, elem, multiparams, params, execution_options)\u001b[0m\n\u001b[0;32m   <a href='file:///c%3A/Users/00824732/AppData/Local/Programs/Python/Python310/lib/site-packages/sqlalchemy/engine/base.py?line=1485'>1486</a>\u001b[0m compiled_cache \u001b[39m=\u001b[39m execution_options\u001b[39m.\u001b[39mget(\n\u001b[0;32m   <a href='file:///c%3A/Users/00824732/AppData/Local/Programs/Python/Python310/lib/site-packages/sqlalchemy/engine/base.py?line=1486'>1487</a>\u001b[0m     \u001b[39m\"\u001b[39m\u001b[39mcompiled_cache\u001b[39m\u001b[39m\"\u001b[39m, \u001b[39mself\u001b[39m\u001b[39m.\u001b[39mengine\u001b[39m.\u001b[39m_compiled_cache\n\u001b[0;32m   <a href='file:///c%3A/Users/00824732/AppData/Local/Programs/Python/Python310/lib/site-packages/sqlalchemy/engine/base.py?line=1487'>1488</a>\u001b[0m )\n\u001b[0;32m   <a href='file:///c%3A/Users/00824732/AppData/Local/Programs/Python/Python310/lib/site-packages/sqlalchemy/engine/base.py?line=1489'>1490</a>\u001b[0m compiled_sql, extracted_params, cache_hit \u001b[39m=\u001b[39m elem\u001b[39m.\u001b[39m_compile_w_cache(\n\u001b[0;32m   <a href='file:///c%3A/Users/00824732/AppData/Local/Programs/Python/Python310/lib/site-packages/sqlalchemy/engine/base.py?line=1490'>1491</a>\u001b[0m     dialect\u001b[39m=\u001b[39mdialect,\n\u001b[0;32m   <a href='file:///c%3A/Users/00824732/AppData/Local/Programs/Python/Python310/lib/site-packages/sqlalchemy/engine/base.py?line=1491'>1492</a>\u001b[0m     compiled_cache\u001b[39m=\u001b[39mcompiled_cache,\n\u001b[1;32m   (...)\u001b[0m\n\u001b[0;32m   <a href='file:///c%3A/Users/00824732/AppData/Local/Programs/Python/Python310/lib/site-packages/sqlalchemy/engine/base.py?line=1495'>1496</a>\u001b[0m     linting\u001b[39m=\u001b[39m\u001b[39mself\u001b[39m\u001b[39m.\u001b[39mdialect\u001b[39m.\u001b[39mcompiler_linting \u001b[39m|\u001b[39m compiler\u001b[39m.\u001b[39mWARN_LINTING,\n\u001b[0;32m   <a href='file:///c%3A/Users/00824732/AppData/Local/Programs/Python/Python310/lib/site-packages/sqlalchemy/engine/base.py?line=1496'>1497</a>\u001b[0m )\n\u001b[1;32m-> <a href='file:///c%3A/Users/00824732/AppData/Local/Programs/Python/Python310/lib/site-packages/sqlalchemy/engine/base.py?line=1497'>1498</a>\u001b[0m ret \u001b[39m=\u001b[39m \u001b[39mself\u001b[39;49m\u001b[39m.\u001b[39;49m_execute_context(\n\u001b[0;32m   <a href='file:///c%3A/Users/00824732/AppData/Local/Programs/Python/Python310/lib/site-packages/sqlalchemy/engine/base.py?line=1498'>1499</a>\u001b[0m     dialect,\n\u001b[0;32m   <a href='file:///c%3A/Users/00824732/AppData/Local/Programs/Python/Python310/lib/site-packages/sqlalchemy/engine/base.py?line=1499'>1500</a>\u001b[0m     dialect\u001b[39m.\u001b[39;49mexecution_ctx_cls\u001b[39m.\u001b[39;49m_init_compiled,\n\u001b[0;32m   <a href='file:///c%3A/Users/00824732/AppData/Local/Programs/Python/Python310/lib/site-packages/sqlalchemy/engine/base.py?line=1500'>1501</a>\u001b[0m     compiled_sql,\n\u001b[0;32m   <a href='file:///c%3A/Users/00824732/AppData/Local/Programs/Python/Python310/lib/site-packages/sqlalchemy/engine/base.py?line=1501'>1502</a>\u001b[0m     distilled_params,\n\u001b[0;32m   <a href='file:///c%3A/Users/00824732/AppData/Local/Programs/Python/Python310/lib/site-packages/sqlalchemy/engine/base.py?line=1502'>1503</a>\u001b[0m     execution_options,\n\u001b[0;32m   <a href='file:///c%3A/Users/00824732/AppData/Local/Programs/Python/Python310/lib/site-packages/sqlalchemy/engine/base.py?line=1503'>1504</a>\u001b[0m     compiled_sql,\n\u001b[0;32m   <a href='file:///c%3A/Users/00824732/AppData/Local/Programs/Python/Python310/lib/site-packages/sqlalchemy/engine/base.py?line=1504'>1505</a>\u001b[0m     distilled_params,\n\u001b[0;32m   <a href='file:///c%3A/Users/00824732/AppData/Local/Programs/Python/Python310/lib/site-packages/sqlalchemy/engine/base.py?line=1505'>1506</a>\u001b[0m     elem,\n\u001b[0;32m   <a href='file:///c%3A/Users/00824732/AppData/Local/Programs/Python/Python310/lib/site-packages/sqlalchemy/engine/base.py?line=1506'>1507</a>\u001b[0m     extracted_params,\n\u001b[0;32m   <a href='file:///c%3A/Users/00824732/AppData/Local/Programs/Python/Python310/lib/site-packages/sqlalchemy/engine/base.py?line=1507'>1508</a>\u001b[0m     cache_hit\u001b[39m=\u001b[39;49mcache_hit,\n\u001b[0;32m   <a href='file:///c%3A/Users/00824732/AppData/Local/Programs/Python/Python310/lib/site-packages/sqlalchemy/engine/base.py?line=1508'>1509</a>\u001b[0m )\n\u001b[0;32m   <a href='file:///c%3A/Users/00824732/AppData/Local/Programs/Python/Python310/lib/site-packages/sqlalchemy/engine/base.py?line=1509'>1510</a>\u001b[0m \u001b[39mif\u001b[39;00m has_events:\n\u001b[0;32m   <a href='file:///c%3A/Users/00824732/AppData/Local/Programs/Python/Python310/lib/site-packages/sqlalchemy/engine/base.py?line=1510'>1511</a>\u001b[0m     \u001b[39mself\u001b[39m\u001b[39m.\u001b[39mdispatch\u001b[39m.\u001b[39mafter_execute(\n\u001b[0;32m   <a href='file:///c%3A/Users/00824732/AppData/Local/Programs/Python/Python310/lib/site-packages/sqlalchemy/engine/base.py?line=1511'>1512</a>\u001b[0m         \u001b[39mself\u001b[39m,\n\u001b[0;32m   <a href='file:///c%3A/Users/00824732/AppData/Local/Programs/Python/Python310/lib/site-packages/sqlalchemy/engine/base.py?line=1512'>1513</a>\u001b[0m         elem,\n\u001b[1;32m   (...)\u001b[0m\n\u001b[0;32m   <a href='file:///c%3A/Users/00824732/AppData/Local/Programs/Python/Python310/lib/site-packages/sqlalchemy/engine/base.py?line=1516'>1517</a>\u001b[0m         ret,\n\u001b[0;32m   <a href='file:///c%3A/Users/00824732/AppData/Local/Programs/Python/Python310/lib/site-packages/sqlalchemy/engine/base.py?line=1517'>1518</a>\u001b[0m     )\n",
      "File \u001b[1;32mc:\\Users\\00824732\\AppData\\Local\\Programs\\Python\\Python310\\lib\\site-packages\\sqlalchemy\\engine\\base.py:1862\u001b[0m, in \u001b[0;36mConnection._execute_context\u001b[1;34m(self, dialect, constructor, statement, parameters, execution_options, *args, **kw)\u001b[0m\n\u001b[0;32m   <a href='file:///c%3A/Users/00824732/AppData/Local/Programs/Python/Python310/lib/site-packages/sqlalchemy/engine/base.py?line=1858'>1859</a>\u001b[0m             branched\u001b[39m.\u001b[39mclose()\n\u001b[0;32m   <a href='file:///c%3A/Users/00824732/AppData/Local/Programs/Python/Python310/lib/site-packages/sqlalchemy/engine/base.py?line=1860'>1861</a>\u001b[0m \u001b[39mexcept\u001b[39;00m \u001b[39mBaseException\u001b[39;00m \u001b[39mas\u001b[39;00m e:\n\u001b[1;32m-> <a href='file:///c%3A/Users/00824732/AppData/Local/Programs/Python/Python310/lib/site-packages/sqlalchemy/engine/base.py?line=1861'>1862</a>\u001b[0m     \u001b[39mself\u001b[39;49m\u001b[39m.\u001b[39;49m_handle_dbapi_exception(\n\u001b[0;32m   <a href='file:///c%3A/Users/00824732/AppData/Local/Programs/Python/Python310/lib/site-packages/sqlalchemy/engine/base.py?line=1862'>1863</a>\u001b[0m         e, statement, parameters, cursor, context\n\u001b[0;32m   <a href='file:///c%3A/Users/00824732/AppData/Local/Programs/Python/Python310/lib/site-packages/sqlalchemy/engine/base.py?line=1863'>1864</a>\u001b[0m     )\n\u001b[0;32m   <a href='file:///c%3A/Users/00824732/AppData/Local/Programs/Python/Python310/lib/site-packages/sqlalchemy/engine/base.py?line=1865'>1866</a>\u001b[0m \u001b[39mreturn\u001b[39;00m result\n",
      "File \u001b[1;32mc:\\Users\\00824732\\AppData\\Local\\Programs\\Python\\Python310\\lib\\site-packages\\sqlalchemy\\engine\\base.py:2043\u001b[0m, in \u001b[0;36mConnection._handle_dbapi_exception\u001b[1;34m(self, e, statement, parameters, cursor, context)\u001b[0m\n\u001b[0;32m   <a href='file:///c%3A/Users/00824732/AppData/Local/Programs/Python/Python310/lib/site-packages/sqlalchemy/engine/base.py?line=2040'>2041</a>\u001b[0m     util\u001b[39m.\u001b[39mraise_(newraise, with_traceback\u001b[39m=\u001b[39mexc_info[\u001b[39m2\u001b[39m], from_\u001b[39m=\u001b[39me)\n\u001b[0;32m   <a href='file:///c%3A/Users/00824732/AppData/Local/Programs/Python/Python310/lib/site-packages/sqlalchemy/engine/base.py?line=2041'>2042</a>\u001b[0m \u001b[39melif\u001b[39;00m should_wrap:\n\u001b[1;32m-> <a href='file:///c%3A/Users/00824732/AppData/Local/Programs/Python/Python310/lib/site-packages/sqlalchemy/engine/base.py?line=2042'>2043</a>\u001b[0m     util\u001b[39m.\u001b[39;49mraise_(\n\u001b[0;32m   <a href='file:///c%3A/Users/00824732/AppData/Local/Programs/Python/Python310/lib/site-packages/sqlalchemy/engine/base.py?line=2043'>2044</a>\u001b[0m         sqlalchemy_exception, with_traceback\u001b[39m=\u001b[39;49mexc_info[\u001b[39m2\u001b[39;49m], from_\u001b[39m=\u001b[39;49me\n\u001b[0;32m   <a href='file:///c%3A/Users/00824732/AppData/Local/Programs/Python/Python310/lib/site-packages/sqlalchemy/engine/base.py?line=2044'>2045</a>\u001b[0m     )\n\u001b[0;32m   <a href='file:///c%3A/Users/00824732/AppData/Local/Programs/Python/Python310/lib/site-packages/sqlalchemy/engine/base.py?line=2045'>2046</a>\u001b[0m \u001b[39melse\u001b[39;00m:\n\u001b[0;32m   <a href='file:///c%3A/Users/00824732/AppData/Local/Programs/Python/Python310/lib/site-packages/sqlalchemy/engine/base.py?line=2046'>2047</a>\u001b[0m     util\u001b[39m.\u001b[39mraise_(exc_info[\u001b[39m1\u001b[39m], with_traceback\u001b[39m=\u001b[39mexc_info[\u001b[39m2\u001b[39m])\n",
      "File \u001b[1;32mc:\\Users\\00824732\\AppData\\Local\\Programs\\Python\\Python310\\lib\\site-packages\\sqlalchemy\\util\\compat.py:207\u001b[0m, in \u001b[0;36mraise_\u001b[1;34m(***failed resolving arguments***)\u001b[0m\n\u001b[0;32m    <a href='file:///c%3A/Users/00824732/AppData/Local/Programs/Python/Python310/lib/site-packages/sqlalchemy/util/compat.py?line=203'>204</a>\u001b[0m     exception\u001b[39m.\u001b[39m__cause__ \u001b[39m=\u001b[39m replace_context\n\u001b[0;32m    <a href='file:///c%3A/Users/00824732/AppData/Local/Programs/Python/Python310/lib/site-packages/sqlalchemy/util/compat.py?line=205'>206</a>\u001b[0m \u001b[39mtry\u001b[39;00m:\n\u001b[1;32m--> <a href='file:///c%3A/Users/00824732/AppData/Local/Programs/Python/Python310/lib/site-packages/sqlalchemy/util/compat.py?line=206'>207</a>\u001b[0m     \u001b[39mraise\u001b[39;00m exception\n\u001b[0;32m    <a href='file:///c%3A/Users/00824732/AppData/Local/Programs/Python/Python310/lib/site-packages/sqlalchemy/util/compat.py?line=207'>208</a>\u001b[0m \u001b[39mfinally\u001b[39;00m:\n\u001b[0;32m    <a href='file:///c%3A/Users/00824732/AppData/Local/Programs/Python/Python310/lib/site-packages/sqlalchemy/util/compat.py?line=208'>209</a>\u001b[0m     \u001b[39m# credit to\u001b[39;00m\n\u001b[0;32m    <a href='file:///c%3A/Users/00824732/AppData/Local/Programs/Python/Python310/lib/site-packages/sqlalchemy/util/compat.py?line=209'>210</a>\u001b[0m     \u001b[39m# https://cosmicpercolator.com/2016/01/13/exception-leaks-in-python-2-and-3/\u001b[39;00m\n\u001b[0;32m    <a href='file:///c%3A/Users/00824732/AppData/Local/Programs/Python/Python310/lib/site-packages/sqlalchemy/util/compat.py?line=210'>211</a>\u001b[0m     \u001b[39m# as the __traceback__ object creates a cycle\u001b[39;00m\n\u001b[0;32m    <a href='file:///c%3A/Users/00824732/AppData/Local/Programs/Python/Python310/lib/site-packages/sqlalchemy/util/compat.py?line=211'>212</a>\u001b[0m     \u001b[39mdel\u001b[39;00m exception, replace_context, from_, with_traceback\n",
      "File \u001b[1;32mc:\\Users\\00824732\\AppData\\Local\\Programs\\Python\\Python310\\lib\\site-packages\\sqlalchemy\\engine\\base.py:1819\u001b[0m, in \u001b[0;36mConnection._execute_context\u001b[1;34m(self, dialect, constructor, statement, parameters, execution_options, *args, **kw)\u001b[0m\n\u001b[0;32m   <a href='file:///c%3A/Users/00824732/AppData/Local/Programs/Python/Python310/lib/site-packages/sqlalchemy/engine/base.py?line=1816'>1817</a>\u001b[0m                 \u001b[39mbreak\u001b[39;00m\n\u001b[0;32m   <a href='file:///c%3A/Users/00824732/AppData/Local/Programs/Python/Python310/lib/site-packages/sqlalchemy/engine/base.py?line=1817'>1818</a>\u001b[0m     \u001b[39mif\u001b[39;00m \u001b[39mnot\u001b[39;00m evt_handled:\n\u001b[1;32m-> <a href='file:///c%3A/Users/00824732/AppData/Local/Programs/Python/Python310/lib/site-packages/sqlalchemy/engine/base.py?line=1818'>1819</a>\u001b[0m         \u001b[39mself\u001b[39;49m\u001b[39m.\u001b[39;49mdialect\u001b[39m.\u001b[39;49mdo_execute(\n\u001b[0;32m   <a href='file:///c%3A/Users/00824732/AppData/Local/Programs/Python/Python310/lib/site-packages/sqlalchemy/engine/base.py?line=1819'>1820</a>\u001b[0m             cursor, statement, parameters, context\n\u001b[0;32m   <a href='file:///c%3A/Users/00824732/AppData/Local/Programs/Python/Python310/lib/site-packages/sqlalchemy/engine/base.py?line=1820'>1821</a>\u001b[0m         )\n\u001b[0;32m   <a href='file:///c%3A/Users/00824732/AppData/Local/Programs/Python/Python310/lib/site-packages/sqlalchemy/engine/base.py?line=1822'>1823</a>\u001b[0m \u001b[39mif\u001b[39;00m \u001b[39mself\u001b[39m\u001b[39m.\u001b[39m_has_events \u001b[39mor\u001b[39;00m \u001b[39mself\u001b[39m\u001b[39m.\u001b[39mengine\u001b[39m.\u001b[39m_has_events:\n\u001b[0;32m   <a href='file:///c%3A/Users/00824732/AppData/Local/Programs/Python/Python310/lib/site-packages/sqlalchemy/engine/base.py?line=1823'>1824</a>\u001b[0m     \u001b[39mself\u001b[39m\u001b[39m.\u001b[39mdispatch\u001b[39m.\u001b[39mafter_cursor_execute(\n\u001b[0;32m   <a href='file:///c%3A/Users/00824732/AppData/Local/Programs/Python/Python310/lib/site-packages/sqlalchemy/engine/base.py?line=1824'>1825</a>\u001b[0m         \u001b[39mself\u001b[39m,\n\u001b[0;32m   <a href='file:///c%3A/Users/00824732/AppData/Local/Programs/Python/Python310/lib/site-packages/sqlalchemy/engine/base.py?line=1825'>1826</a>\u001b[0m         cursor,\n\u001b[1;32m   (...)\u001b[0m\n\u001b[0;32m   <a href='file:///c%3A/Users/00824732/AppData/Local/Programs/Python/Python310/lib/site-packages/sqlalchemy/engine/base.py?line=1829'>1830</a>\u001b[0m         context\u001b[39m.\u001b[39mexecutemany,\n\u001b[0;32m   <a href='file:///c%3A/Users/00824732/AppData/Local/Programs/Python/Python310/lib/site-packages/sqlalchemy/engine/base.py?line=1830'>1831</a>\u001b[0m     )\n",
      "File \u001b[1;32mc:\\Users\\00824732\\AppData\\Local\\Programs\\Python\\Python310\\lib\\site-packages\\sqlalchemy\\engine\\default.py:732\u001b[0m, in \u001b[0;36mDefaultDialect.do_execute\u001b[1;34m(self, cursor, statement, parameters, context)\u001b[0m\n\u001b[0;32m    <a href='file:///c%3A/Users/00824732/AppData/Local/Programs/Python/Python310/lib/site-packages/sqlalchemy/engine/default.py?line=730'>731</a>\u001b[0m \u001b[39mdef\u001b[39;00m \u001b[39mdo_execute\u001b[39m(\u001b[39mself\u001b[39m, cursor, statement, parameters, context\u001b[39m=\u001b[39m\u001b[39mNone\u001b[39;00m):\n\u001b[1;32m--> <a href='file:///c%3A/Users/00824732/AppData/Local/Programs/Python/Python310/lib/site-packages/sqlalchemy/engine/default.py?line=731'>732</a>\u001b[0m     cursor\u001b[39m.\u001b[39;49mexecute(statement, parameters)\n",
      "\u001b[1;31mOperationalError\u001b[0m: (sqlite3.OperationalError) no such table: students\n[SQL: INSERT INTO students (id, name) VALUES (?, ?)]\n[parameters: (23, 'peter')]\n(Background on this error at: https://sqlalche.me/e/14/e3q8)"
     ]
    }
   ],
   "source": [
    "conn=engine.connect()\n",
    "ins=students.insert().values(id=23,name='peter')\n",
    "result=conn.execute(ins)\n",
    "##stmt=students().delete().where(student.c.lastname='peter')\n",
    "conn.execute(s).fetchall()"
   ]
  },
  {
   "cell_type": "code",
   "execution_count": 4,
   "metadata": {},
   "outputs": [
    {
     "ename": "NameError",
     "evalue": "name 'conn' is not defined",
     "output_type": "error",
     "traceback": [
      "\u001b[1;31m---------------------------------------------------------------------------\u001b[0m",
      "\u001b[1;31mNameError\u001b[0m                                 Traceback (most recent call last)",
      "\u001b[1;32mc:\\Users\\00824732\\Desktop\\geek6\\personal\\New folder\\Done\\sqllachemy.ipynb Cell 5\u001b[0m in \u001b[0;36m<module>\u001b[1;34m\u001b[0m\n\u001b[1;32m----> <a href='vscode-notebook-cell:/c%3A/Users/00824732/Desktop/geek6/personal/New%20folder/Done/sqllachemy.ipynb#W4sZmlsZQ%3D%3D?line=0'>1</a>\u001b[0m conn\u001b[39m.\u001b[39mexecute(students\u001b[39m.\u001b[39minsert(),[{\n\u001b[0;32m      <a href='vscode-notebook-cell:/c%3A/Users/00824732/Desktop/geek6/personal/New%20folder/Done/sqllachemy.ipynb#W4sZmlsZQ%3D%3D?line=1'>2</a>\u001b[0m     {\u001b[39m'\u001b[39m\u001b[39mid\u001b[39m\u001b[39m'\u001b[39m:\u001b[39m1\u001b[39m,\u001b[39m'\u001b[39m\u001b[39mname\u001b[39m\u001b[39m'\u001b[39m:\u001b[39m'\u001b[39m\u001b[39mpeter\u001b[39m\u001b[39m'\u001b[39m},\n\u001b[0;32m      <a href='vscode-notebook-cell:/c%3A/Users/00824732/Desktop/geek6/personal/New%20folder/Done/sqllachemy.ipynb#W4sZmlsZQ%3D%3D?line=2'>3</a>\u001b[0m     {\u001b[39m'\u001b[39m\u001b[39mid\u001b[39m\u001b[39m'\u001b[39m:\u001b[39m2\u001b[39m,\u001b[39m'\u001b[39m\u001b[39mname\u001b[39m\u001b[39m'\u001b[39m:\u001b[39m'\u001b[39m\u001b[39mjames\u001b[39m\u001b[39m'\u001b[39m}\n\u001b[0;32m      <a href='vscode-notebook-cell:/c%3A/Users/00824732/Desktop/geek6/personal/New%20folder/Done/sqllachemy.ipynb#W4sZmlsZQ%3D%3D?line=3'>4</a>\u001b[0m }])\n",
      "\u001b[1;31mNameError\u001b[0m: name 'conn' is not defined"
     ]
    }
   ],
   "source": [
    "conn.execute(students.insert(),[{\n",
    "    {'id':1,'name':'peter'},\n",
    "    {'id':2,'name':'james'}\n",
    "}])"
   ]
  },
  {
   "cell_type": "code",
   "execution_count": null,
   "metadata": {},
   "outputs": [],
   "source": [
    "s=student.select().where()\n",
    "result=conn.execute(s)\n",
    "for row in result:\n",
    "    print(row)"
   ]
  },
  {
   "cell_type": "code",
   "execution_count": null,
   "metadata": {},
   "outputs": [],
   "source": [
    "s=select([users])\n",
    "conn.execute(s)"
   ]
  },
  {
   "cell_type": "markdown",
   "metadata": {},
   "source": [
    "## Filter"
   ]
  },
  {
   "cell_type": "code",
   "execution_count": null,
   "metadata": {},
   "outputs": [],
   "source": [
    "result=sessions.query(customer).filter(customer.id=2)\n",
    "for row in results:\n",
    "    print(row.id,row.name)"
   ]
  },
  {
   "cell_type": "code",
   "execution_count": null,
   "metadata": {},
   "outputs": [],
   "source": [
    "result_like=session.query(customer).filter(customer.like('%d'))"
   ]
  },
  {
   "cell_type": "code",
   "execution_count": null,
   "metadata": {},
   "outputs": [],
   "source": [
    "result=session.query(customer).filter(and_(customer.id>2,))"
   ]
  },
  {
   "cell_type": "code",
   "execution_count": null,
   "metadata": {},
   "outputs": [],
   "source": [
    "result_or=session.query(customer).filter(or_(customer.id>2,customer.name.like('%d')))"
   ]
  },
  {
   "cell_type": "code",
   "execution_count": null,
   "metadata": {},
   "outputs": [],
   "source": [
    "result_all=session.query(customer).all()"
   ]
  },
  {
   "cell_type": "code",
   "execution_count": null,
   "metadata": {},
   "outputs": [],
   "source": [
    "result_one=session.query(customer).one()"
   ]
  },
  {
   "cell_type": "code",
   "execution_count": null,
   "metadata": {},
   "outputs": [],
   "source": [
    "union"
   ]
  },
  {
   "cell_type": "markdown",
   "metadata": {},
   "source": [
    "## Functions"
   ]
  },
  {
   "cell_type": "code",
   "execution_count": null,
   "metadata": {},
   "outputs": [],
   "source": [
    "from sqlalchemy.sql import fun\n",
    "results=conn.execute(select[func.min(employee.c.marks)])"
   ]
  },
  {
   "cell_type": "code",
   "execution_count": null,
   "metadata": {},
   "outputs": [],
   "source": [
    "result_avg=conn.execute(select[func.avg(employee.c.marks)])"
   ]
  },
  {
   "cell_type": "markdown",
   "metadata": {},
   "source": [
    "## Delete"
   ]
  },
  {
   "cell_type": "code",
   "execution_count": null,
   "metadata": {},
   "outputs": [],
   "source": [
    "stmt=students.delete().where(student.c.lastname='peter')\n",
    "s=conn.execute(stmt)\n",
    "s=students.select()\n",
    "conn.execute(s).fetchall()"
   ]
  },
  {
   "cell_type": "markdown",
   "metadata": {},
   "source": [
    "## Multiple table deletes"
   ]
  },
  {
   "cell_type": "code",
   "execution_count": null,
   "metadata": {},
   "outputs": [],
   "source": [
    "stmt=users.delete().\\\n",
    "    where(users.c.id==address.c.id).\\\n",
    "        where(address.c.name='peter')\n",
    "conn.execute(stmt)"
   ]
  },
  {
   "cell_type": "markdown",
   "metadata": {},
   "source": [
    "## Common Relationship operators"
   ]
  },
  {
   "cell_type": "code",
   "execution_count": null,
   "metadata": {},
   "outputs": [],
   "source": [
    "s=session.query(customer).filter(Invoice.invo.__eq__(12))"
   ]
  },
  {
   "cell_type": "code",
   "execution_count": null,
   "metadata": {},
   "outputs": [],
   "source": [
    "s=session.query(customer).filter(Invoice.invo.__ne__(12))"
   ]
  },
  {
   "cell_type": "markdown",
   "metadata": {},
   "source": [
    "## Adding objects"
   ]
  },
  {
   "cell_type": "code",
   "execution_count": null,
   "metadata": {},
   "outputs": [],
   "source": [
    "c1=Sales(name='peter',address='NewYork')\n",
    "session.add(c1)"
   ]
  },
  {
   "cell_type": "code",
   "execution_count": null,
   "metadata": {},
   "outputs": [],
   "source": [
    "session.commit()"
   ]
  },
  {
   "cell_type": "code",
   "execution_count": 2,
   "metadata": {},
   "outputs": [],
   "source": [
    "from sqlalchemy.ext.declarative import declarative_base"
   ]
  },
  {
   "cell_type": "code",
   "execution_count": null,
   "metadata": {},
   "outputs": [],
   "source": [
    "class Customer(Base):\n",
    "    __tablename__=\"Customers\"\n",
    "    id=Columns(Integer,primary_key=True)\n",
    "    name=Column(String)\n",
    "    address=Column(String)\n",
    "from sqlalchemy.orm import sessionmaker\n",
    "Session=sessionmaker(bind=engine)\n",
    "session=Session()\n",
    "c1=Customer(id=1,name='peter',address='Nyk')\n",
    "session.add(c1)\n",
    "session.commit()"
   ]
  },
  {
   "cell_type": "code",
   "execution_count": null,
   "metadata": {},
   "outputs": [],
   "source": [
    "session.add_all([Customer(id=1,name='James',address='CA'),Customer(id=1,name='John',address='VA')])\n",
    "session.commit()"
   ]
  },
  {
   "cell_type": "markdown",
   "metadata": {},
   "source": [
    "## Scalars"
   ]
  },
  {
   "cell_type": "code",
   "execution_count": null,
   "metadata": {},
   "outputs": [],
   "source": [
    "session.query(customers).all()"
   ]
  },
  {
   "cell_type": "code",
   "execution_count": null,
   "metadata": {},
   "outputs": [],
   "source": [
    "session.query(customers).filter(customer.id==3).scalar()"
   ]
  },
  {
   "cell_type": "code",
   "execution_count": null,
   "metadata": {},
   "outputs": [],
   "source": [
    "session.query(customer).one()"
   ]
  },
  {
   "cell_type": "markdown",
   "metadata": {},
   "source": [
    "## Bulding relationships"
   ]
  },
  {
   "cell_type": "code",
   "execution_count": null,
   "metadata": {},
   "outputs": [],
   "source": [
    "class Customer(Base):\n",
    "    __tablename__=\"customer\"\n",
    "    id=Column(integer,primary_key=True)\n",
    "    name=Column(String)\n",
    "\n",
    "class Invoice(Base):\n",
    "    __tablename__=\"Invoices\"\n",
    "    id=Column()\n",
    "    name=Column()\n",
    "    customer=relationship(\"Customer\",\"Invoice\",back_populates=\"invoices\")"
   ]
  },
  {
   "cell_type": "markdown",
   "metadata": {},
   "source": [
    "## Sql alchemy to Pandas"
   ]
  },
  {
   "cell_type": "code",
   "execution_count": null,
   "metadata": {},
   "outputs": [],
   "source": [
    "query=db.select([])\n",
    "results=conn.execute(query).fetchall()\n",
    "df=pd.DataFrame(results)"
   ]
  },
  {
   "attachments": {},
   "cell_type": "markdown",
   "metadata": {},
   "source": [
    "## Joins"
   ]
  },
  {
   "cell_type": "code",
   "execution_count": null,
   "metadata": {},
   "outputs": [],
   "source": [
    "session.query(Customer).join(Invoice).filter(Invoice.amount == 8500).all()"
   ]
  },
  {
   "cell_type": "code",
   "execution_count": null,
   "metadata": {},
   "outputs": [],
   "source": [
    "from sqlalchemy.orm import sessionmaker\n",
    "Session = sessionmaker(bind = engine)\n",
    "session = Session()\n",
    "\n",
    "for c, i in session.query(Customer, Invoice).filter(Customer.id == Invoice.custid).all():\n",
    "   print (\"ID: {} Name: {} Invoice No: {} Amount: {}\".format(c.id,c.name, i.invno, i.amount))"
   ]
  },
  {
   "cell_type": "code",
   "execution_count": null,
   "metadata": {},
   "outputs": [],
   "source": [
    "result = session.query(Customer).join(Invoice).filter(Invoice.amount == 8500)\n",
    "for row in result:\n",
    "   for inv in row.invoices:\n",
    "      print (row.id, row.name, inv.invno, inv.amount)"
   ]
  }
 ],
 "metadata": {
  "kernelspec": {
   "display_name": "Python 3",
   "language": "python",
   "name": "python3"
  },
  "language_info": {
   "codemirror_mode": {
    "name": "ipython",
    "version": 3
   },
   "file_extension": ".py",
   "mimetype": "text/x-python",
   "name": "python",
   "nbconvert_exporter": "python",
   "pygments_lexer": "ipython3",
   "version": "3.9.13 (tags/v3.9.13:6de2ca5, May 17 2022, 16:36:42) [MSC v.1929 64 bit (AMD64)]"
  },
  "orig_nbformat": 4,
  "vscode": {
   "interpreter": {
    "hash": "1e57b5609a0adf6ef8af7ad6d2063e8e9c24ef6935f7306ae9ba467b68a2bc1a"
   }
  }
 },
 "nbformat": 4,
 "nbformat_minor": 2
}
