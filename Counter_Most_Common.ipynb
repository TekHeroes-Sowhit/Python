{
 "cells": [
  {
   "cell_type": "markdown",
   "metadata": {},
   "source": [
    "## Collections and Counter"
   ]
  },
  {
   "cell_type": "code",
   "execution_count": 25,
   "metadata": {},
   "outputs": [],
   "source": [
    "from collections import Counter\n",
    "import collections"
   ]
  },
  {
   "cell_type": "code",
   "execution_count": 6,
   "metadata": {},
   "outputs": [
    {
     "name": "stdout",
     "output_type": "stream",
     "text": [
      "3\n"
     ]
    }
   ],
   "source": [
    "l=['a','a','b']\n",
    "print(len(l))"
   ]
  },
  {
   "cell_type": "code",
   "execution_count": 7,
   "metadata": {},
   "outputs": [
    {
     "name": "stdout",
     "output_type": "stream",
     "text": [
      "[2, 1, 3]\n"
     ]
    }
   ],
   "source": [
    "from scipy.stats import mode\n",
    "import numpy as np\n",
    "\n",
    "def mostCommon(lst):\n",
    "\t\n",
    "\tval, count = mode(lst, axis = 0)\n",
    "\treturn val.ravel().tolist()\n",
    "\t\t\n",
    "# Driver code\n",
    "lst = [[1, 1, 3],\n",
    "\t[2, 3, 3],\n",
    "\t[3, 2, 2],\n",
    "\t[2, 1, 3]]\n",
    "print(mostCommon(lst))"
   ]
  },
  {
   "cell_type": "code",
   "execution_count": 55,
   "metadata": {},
   "outputs": [],
   "source": [
    "# word_list=[\"peter\",\"is\",\"the\",\"guy\"]\n",
    "# words_to_count = (word for word in word_list if word[:1].isupper())\n",
    "# c = Counter(words_to_count.most_common(2))"
   ]
  },
  {
   "cell_type": "code",
   "execution_count": 9,
   "metadata": {},
   "outputs": [
    {
     "data": {
      "text/plain": [
       "2"
      ]
     },
     "execution_count": 9,
     "metadata": {},
     "output_type": "execute_result"
    }
   ],
   "source": [
    "l.count('a')"
   ]
  },
  {
   "cell_type": "code",
   "execution_count": 10,
   "metadata": {},
   "outputs": [],
   "source": [
    "c=Counter({'a':4,'c':2,'d':3})"
   ]
  },
  {
   "cell_type": "code",
   "execution_count": 11,
   "metadata": {},
   "outputs": [
    {
     "name": "stdout",
     "output_type": "stream",
     "text": [
      "dict_keys(['a', 'c', 'd'])\n"
     ]
    }
   ],
   "source": [
    "print(c.keys())"
   ]
  },
  {
   "cell_type": "code",
   "execution_count": 12,
   "metadata": {},
   "outputs": [
    {
     "name": "stdout",
     "output_type": "stream",
     "text": [
      "('a', 'd', 'c') (4, 3, 2)\n"
     ]
    }
   ],
   "source": [
    "keys,values=zip(*c.most_common())\n",
    "print(keys,values)"
   ]
  },
  {
   "cell_type": "code",
   "execution_count": 13,
   "metadata": {},
   "outputs": [
    {
     "name": "stdout",
     "output_type": "stream",
     "text": [
      "[True, True, True, True, True, False, False, False, False, False, False]\n"
     ]
    }
   ],
   "source": [
    "l=list(range(-5,6))\n",
    "print([i<0 for i in l])"
   ]
  },
  {
   "cell_type": "code",
   "execution_count": 14,
   "metadata": {},
   "outputs": [
    {
     "name": "stdout",
     "output_type": "stream",
     "text": [
      "5\n"
     ]
    }
   ],
   "source": [
    "print(sum(i<0 for i in l))"
   ]
  },
  {
   "cell_type": "code",
   "execution_count": 16,
   "metadata": {},
   "outputs": [
    {
     "name": "stdout",
     "output_type": "stream",
     "text": [
      "5\n"
     ]
    }
   ],
   "source": [
    "print(sum(not(i<=0) for i in l))"
   ]
  },
  {
   "cell_type": "code",
   "execution_count": 17,
   "metadata": {},
   "outputs": [
    {
     "name": "stdout",
     "output_type": "stream",
     "text": [
      "[False, True, False, True, False, True, False, True, False, True, False]\n"
     ]
    }
   ],
   "source": [
    "print([i%2==0 for i in l])"
   ]
  },
  {
   "cell_type": "code",
   "execution_count": 14,
   "metadata": {},
   "outputs": [
    {
     "name": "stdout",
     "output_type": "stream",
     "text": [
      "['a', 'c', 'd']\n"
     ]
    }
   ],
   "source": [
    "print([i[0] for i in c.items() if i[1]>=2])"
   ]
  },
  {
   "cell_type": "code",
   "execution_count": 15,
   "metadata": {},
   "outputs": [],
   "source": [
    "s = 'government of the people, by the people, for the people.'"
   ]
  },
  {
   "cell_type": "code",
   "execution_count": 16,
   "metadata": {},
   "outputs": [],
   "source": [
    "s_remove = s.replace(',', '').replace('.', '')"
   ]
  },
  {
   "cell_type": "code",
   "execution_count": 17,
   "metadata": {},
   "outputs": [],
   "source": [
    "world_split=s_remove.split()"
   ]
  },
  {
   "cell_type": "code",
   "execution_count": 18,
   "metadata": {},
   "outputs": [
    {
     "name": "stdout",
     "output_type": "stream",
     "text": [
      "3\n"
     ]
    }
   ],
   "source": [
    "print(world_split.count('people'))"
   ]
  },
  {
   "cell_type": "code",
   "execution_count": 19,
   "metadata": {},
   "outputs": [
    {
     "name": "stdout",
     "output_type": "stream",
     "text": [
      "3\n"
     ]
    }
   ],
   "source": [
    "print(world_split.count('people'))"
   ]
  },
  {
   "cell_type": "code",
   "execution_count": 24,
   "metadata": {},
   "outputs": [
    {
     "name": "stdout",
     "output_type": "stream",
     "text": [
      "('the', 3)\n",
      "3\n"
     ]
    }
   ],
   "source": [
    "most_common=collections.Counter(world_split)\n",
    "print(most_common.most_common()[0])\n",
    "print(most_common.most_common()[0][-1])"
   ]
  },
  {
   "cell_type": "code",
   "execution_count": 44,
   "metadata": {},
   "outputs": [
    {
     "name": "stdout",
     "output_type": "stream",
     "text": [
      "[('for', 1), ('by', 1), ('of', 1), ('government', 1), ('people', 3), ('the', 3)]\n"
     ]
    }
   ],
   "source": [
    "print(most_common.most_common()[::-1])"
   ]
  },
  {
   "cell_type": "code",
   "execution_count": 45,
   "metadata": {},
   "outputs": [],
   "source": [
    "s = 'supercalifragilisticexpialidocious'"
   ]
  },
  {
   "cell_type": "code",
   "execution_count": 47,
   "metadata": {},
   "outputs": [
    {
     "name": "stdout",
     "output_type": "stream",
     "text": [
      "3\n"
     ]
    }
   ],
   "source": [
    "print(s.count('a'))"
   ]
  },
  {
   "cell_type": "code",
   "execution_count": 26,
   "metadata": {},
   "outputs": [],
   "source": [
    "c=collections.Counter(s)"
   ]
  },
  {
   "cell_type": "code",
   "execution_count": 28,
   "metadata": {},
   "outputs": [
    {
     "name": "stdout",
     "output_type": "stream",
     "text": [
      "('e', ' ', 'o', 'p', 't', 'h', 'l', 'r', 'n', 'f', ',', 'g', 'v', 'm', 'b', 'y', '.')\n"
     ]
    }
   ],
   "source": [
    "values,count=zip(*c.most_common())\n",
    "print(values)"
   ]
  },
  {
   "cell_type": "code",
   "execution_count": 29,
   "metadata": {},
   "outputs": [],
   "source": [
    "words=[\"I\",\"Love\",\"the\",\"cake\"]"
   ]
  },
  {
   "cell_type": "code",
   "execution_count": 30,
   "metadata": {},
   "outputs": [],
   "source": [
    "most_common=[word for word,word_count in Counter(words).most_common(3)]"
   ]
  },
  {
   "cell_type": "code",
   "execution_count": 31,
   "metadata": {},
   "outputs": [
    {
     "name": "stdout",
     "output_type": "stream",
     "text": [
      "['I', 'Love', 'the']\n"
     ]
    }
   ],
   "source": [
    "print(most_common)"
   ]
  },
  {
   "cell_type": "code",
   "execution_count": 32,
   "metadata": {},
   "outputs": [
    {
     "name": "stdout",
     "output_type": "stream",
     "text": [
      "[2, 1, 3]\n"
     ]
    }
   ],
   "source": [
    "def most_common(lst):\n",
    "    return [Counter(col).most_common(1)[0][0] for col in zip(*lst)]\n",
    "\n",
    "\n",
    "lst = [[1, 1, 3],\n",
    "       [2, 3, 3],\n",
    "       [3, 2, 2],\n",
    "       [2, 1, 3]]\n",
    "print(most_common(lst))"
   ]
  },
  {
   "cell_type": "code",
   "execution_count": 23,
   "metadata": {},
   "outputs": [
    {
     "name": "stdout",
     "output_type": "stream",
     "text": [
      "['Peter', 'Joins', 'the']\n"
     ]
    }
   ],
   "source": [
    "from collections import Counter\n",
    "words=[\"Peter\",\"Joins\",\"the\",\"course\"]\n",
    "most_common_word=[word for word,word_count in Counter(words).most_common(3)]\n",
    "print(str(most_common_word))"
   ]
  },
  {
   "cell_type": "code",
   "execution_count": 33,
   "metadata": {},
   "outputs": [
    {
     "name": "stdout",
     "output_type": "stream",
     "text": [
      "['peter', 'joins', 'a', 'course', 'tekheroes']\n"
     ]
    }
   ],
   "source": [
    "words_list=['peter','joins','a','course','tekheroes']\n",
    "word_counter={}\n",
    "for word in words_list:\n",
    "    if word in word_counter:\n",
    "        word_counter[word]+=1\n",
    "    else:\n",
    "        word_counter[word]=1\n",
    "popular_words=  sorted(word_counter,key=word_counter.get,reverse=True)\n",
    "print(str(popular_words))"
   ]
  },
  {
   "cell_type": "code",
   "execution_count": 34,
   "metadata": {},
   "outputs": [
    {
     "name": "stdout",
     "output_type": "stream",
     "text": [
      "3\n"
     ]
    }
   ],
   "source": [
    "from statistics import mode\n",
    "most_common = mode([3, 2, 2, 2, 1, 1])  # 2\n",
    "most_common = mode([3, 2]) \n",
    "print(most_common)"
   ]
  },
  {
   "cell_type": "code",
   "execution_count": 35,
   "metadata": {},
   "outputs": [
    {
     "data": {
      "text/plain": [
       "{'': 1,\n",
       " 'And': 2,\n",
       " 'Cats': 5,\n",
       " 'Jellicle': 6,\n",
       " 'Moon': 1,\n",
       " 'They': 1,\n",
       " 'airs': 1,\n",
       " 'and': 3,\n",
       " 'are': 3,\n",
       " 'black': 2,\n",
       " 'bright': 1,\n",
       " 'bright,': 1,\n",
       " 'caterwaul.': 1,\n",
       " 'cheerful': 1,\n",
       " 'eyes;': 1,\n",
       " 'faces,': 1,\n",
       " 'for': 1,\n",
       " 'graces': 1,\n",
       " 'have': 2,\n",
       " 'hear': 1,\n",
       " 'like': 1,\n",
       " 'merry': 1,\n",
       " 'pleasant': 1,\n",
       " 'practise': 1,\n",
       " 'rather': 1,\n",
       " 'rise.': 1,\n",
       " 'small;': 1,\n",
       " 'the': 1,\n",
       " 'their': 1,\n",
       " 'they': 1,\n",
       " 'to': 3,\n",
       " 'wait': 1,\n",
       " 'when': 1,\n",
       " 'white,': 1}"
      ]
     },
     "execution_count": 35,
     "metadata": {},
     "output_type": "execute_result"
    }
   ],
   "source": [
    "import numpy as np\n",
    "a = ['Jellicle', 'Cats', 'are', 'black', 'and', 'white,', 'Jellicle', 'Cats', \n",
    " 'are', 'rather', 'small;', 'Jellicle', 'Cats', 'are', 'merry', 'and', \n",
    " 'bright,', 'And', 'pleasant', 'to', 'hear', 'when', 'they', 'caterwaul.', \n",
    " 'Jellicle', 'Cats', 'have', 'cheerful', 'faces,', 'Jellicle', 'Cats', \n",
    " 'have', 'bright', 'black', 'eyes;', 'They', 'like', 'to', 'practise', \n",
    " 'their', 'airs', 'and', 'graces', 'And', 'wait', 'for', 'the', 'Jellicle', \n",
    " 'Moon', 'to', 'rise.', '']\n",
    "dict(zip(*np.unique(a,return_counts=True)))"
   ]
  },
  {
   "cell_type": "code",
   "execution_count": 33,
   "metadata": {},
   "outputs": [],
   "source": [
    "l=['Tekheroes','Tekheroes']"
   ]
  },
  {
   "cell_type": "code",
   "execution_count": 36,
   "metadata": {},
   "outputs": [
    {
     "data": {
      "text/plain": [
       "[(1, 5), (1, 4), (1, 3)]"
      ]
     },
     "execution_count": 36,
     "metadata": {},
     "output_type": "execute_result"
    }
   ],
   "source": [
    "counter = {}\n",
    "for i in l: \n",
    "    counter[i] = counter.get(i, 0) + 1\n",
    "sorted([ (freq,word) for word, freq in counter.items() ], reverse=True)[:3]"
   ]
  },
  {
   "cell_type": "code",
   "execution_count": 38,
   "metadata": {},
   "outputs": [],
   "source": [
    "# from collections import defaultdict\n",
    "# class Counter():\n",
    "#     ITEMS = []\n",
    "#     def __init__(self, items):\n",
    "#         d = defaultdict(int)\n",
    "#         for i in items:\n",
    "#             d[i] += 1\n",
    "#         self.ITEMS = sorted(d.iteritems(), reverse=True, key=lambda i: i[1])\n",
    "#     def most_common(self, n):\n",
    "#         return self.ITEMS[:n]\n",
    "# words_to_count = (word for word in word_list if word[:1].isupper())\n",
    "# c = Counter(words_to_count)\n",
    "# print(c.most_common(3))"
   ]
  },
  {
   "cell_type": "code",
   "execution_count": 39,
   "metadata": {},
   "outputs": [
    {
     "ename": "AttributeError",
     "evalue": "'collections.defaultdict' object has no attribute 'iteritems'",
     "output_type": "error",
     "traceback": [
      "\u001b[1;31m---------------------------------------------------------------------------\u001b[0m",
      "\u001b[1;31mAttributeError\u001b[0m                            Traceback (most recent call last)",
      "\u001b[1;32mc:\\Users\\00824732\\Desktop\\geek6\\personal\\New folder (2)\\Counter_Most_Common.ipynb Cell 37\u001b[0m in \u001b[0;36m<module>\u001b[1;34m\u001b[0m\n\u001b[1;32m----> <a href='vscode-notebook-cell:/c%3A/Users/00824732/Desktop/geek6/personal/New%20folder%20%282%29/Counter_Most_Common.ipynb#X55sZmlsZQ%3D%3D?line=0'>1</a>\u001b[0m top_10_words\u001b[39m=\u001b[39mCounter(l)\n\u001b[0;32m      <a href='vscode-notebook-cell:/c%3A/Users/00824732/Desktop/geek6/personal/New%20folder%20%282%29/Counter_Most_Common.ipynb#X55sZmlsZQ%3D%3D?line=1'>2</a>\u001b[0m \u001b[39mfor\u001b[39;00m word \u001b[39min\u001b[39;00m top_10_words:\n\u001b[0;32m      <a href='vscode-notebook-cell:/c%3A/Users/00824732/Desktop/geek6/personal/New%20folder%20%282%29/Counter_Most_Common.ipynb#X55sZmlsZQ%3D%3D?line=2'>3</a>\u001b[0m     \u001b[39mprint\u001b[39m(word[\u001b[39m0\u001b[39m])\n",
      "\u001b[1;32mc:\\Users\\00824732\\Desktop\\geek6\\personal\\New folder (2)\\Counter_Most_Common.ipynb Cell 37\u001b[0m in \u001b[0;36mCounter.__init__\u001b[1;34m(self, items)\u001b[0m\n\u001b[0;32m      <a href='vscode-notebook-cell:/c%3A/Users/00824732/Desktop/geek6/personal/New%20folder%20%282%29/Counter_Most_Common.ipynb#X55sZmlsZQ%3D%3D?line=5'>6</a>\u001b[0m \u001b[39mfor\u001b[39;00m i \u001b[39min\u001b[39;00m items:\n\u001b[0;32m      <a href='vscode-notebook-cell:/c%3A/Users/00824732/Desktop/geek6/personal/New%20folder%20%282%29/Counter_Most_Common.ipynb#X55sZmlsZQ%3D%3D?line=6'>7</a>\u001b[0m     d[i] \u001b[39m+\u001b[39m\u001b[39m=\u001b[39m \u001b[39m1\u001b[39m\n\u001b[1;32m----> <a href='vscode-notebook-cell:/c%3A/Users/00824732/Desktop/geek6/personal/New%20folder%20%282%29/Counter_Most_Common.ipynb#X55sZmlsZQ%3D%3D?line=7'>8</a>\u001b[0m \u001b[39mself\u001b[39m\u001b[39m.\u001b[39mITEMS \u001b[39m=\u001b[39m \u001b[39msorted\u001b[39m(d\u001b[39m.\u001b[39;49miteritems(), reverse\u001b[39m=\u001b[39m\u001b[39mTrue\u001b[39;00m, key\u001b[39m=\u001b[39m\u001b[39mlambda\u001b[39;00m i: i[\u001b[39m1\u001b[39m])\n",
      "\u001b[1;31mAttributeError\u001b[0m: 'collections.defaultdict' object has no attribute 'iteritems'"
     ]
    }
   ],
   "source": [
    "top_10_words=Counter(l)\n",
    "for word in top_10_words:\n",
    "    print(word[0])"
   ]
  },
  {
   "cell_type": "code",
   "execution_count": 57,
   "metadata": {},
   "outputs": [],
   "source": [
    "# word_list=[\"peter\",\"is\",\"the\",\"guy\"]\n",
    "# for i in word_list:\n",
    "#     sorted([(freq,word) for word,freq in  words_list.items()],reverse=True)[:3]\n"
   ]
  },
  {
   "cell_type": "code",
   "execution_count": 42,
   "metadata": {},
   "outputs": [
    {
     "name": "stdout",
     "output_type": "stream",
     "text": [
      "['Jellicle', 'Cats', 'And']\n"
     ]
    }
   ],
   "source": [
    "lst = ['Jellicle', 'Cats', 'are', 'black', 'and','white,',\n",
    "       'Jellicle', 'Cats','are', 'rather', 'small;', 'Jellicle', \n",
    "       'Cats', 'are', 'merry', 'and','bright,', 'And', 'pleasant',    \n",
    "       'to','hear', 'when', 'they', 'caterwaul.','Jellicle', \n",
    "       'Cats', 'have','cheerful', 'faces,', 'Jellicle',\n",
    "       'Cats','have', 'bright', 'black','eyes;', 'They', 'like',\n",
    "       'to', 'practise','their', 'airs', 'and', 'graces', 'And', \n",
    "       'wait', 'for', 'the', 'Jellicle','Moon', 'to', 'rise.', '']\n",
    "\n",
    "lst_sorted=sorted([ss for ss in set(lst) if len(ss)>0 and ss.istitle()], \n",
    "                   key=lst.count, \n",
    "                   reverse=True)\n",
    "print(lst_sorted[0:3])"
   ]
  },
  {
   "cell_type": "code",
   "execution_count": 49,
   "metadata": {},
   "outputs": [
    {
     "data": {
      "text/plain": [
       "{'TekHeroes': 1, 'Offers': 1, 'Data': 2, 'FullStack': 1, 'offers': 1}"
      ]
     },
     "execution_count": 49,
     "metadata": {},
     "output_type": "execute_result"
    }
   ],
   "source": [
    " l = ['TekHeroes', 'Offers', 'Data', 'FullStack', 'Data', 'offers']\n",
    "counter = {}\n",
    "for i in l: \n",
    "    counter[i] = counter.get(i, 0) + 1\n",
    "counter\n",
    "\n",
    "# sorted([ (freq,word) for word, freq in counter.items() ], reverse=True)[:3]\n",
    "# [(6, 'Jellicle'), (5, 'Cats'), (3, 'to')]"
   ]
  },
  {
   "cell_type": "code",
   "execution_count": 46,
   "metadata": {},
   "outputs": [
    {
     "data": {
      "text/plain": [
       "{'Courses': 2,\n",
       " 'CoursesTekHeroes': 1,\n",
       " 'Data': 2,\n",
       " 'Offers': 1,\n",
       " 'Offers.': 1,\n",
       " 'TekHeroes': 1,\n",
       " 'offers': 1}"
      ]
     },
     "execution_count": 46,
     "metadata": {},
     "output_type": "execute_result"
    }
   ],
   "source": [
    "import numpy\n",
    "a = ['TekHeroes', 'Offers', 'Data', 'Courses', 'Courses', 'offers', 'Courses''TekHeroes', 'Data', 'Offers.']\n",
    "dict(zip(*numpy.unique(a, return_counts=True)))"
   ]
  }
 ],
 "metadata": {
  "kernelspec": {
   "display_name": "Python 3.9.13 64-bit (microsoft store)",
   "language": "python",
   "name": "python3"
  },
  "language_info": {
   "codemirror_mode": {
    "name": "ipython",
    "version": 3
   },
   "file_extension": ".py",
   "mimetype": "text/x-python",
   "name": "python",
   "nbconvert_exporter": "python",
   "pygments_lexer": "ipython3",
   "version": "3.9.13"
  },
  "orig_nbformat": 4,
  "vscode": {
   "interpreter": {
    "hash": "1e57b5609a0adf6ef8af7ad6d2063e8e9c24ef6935f7306ae9ba467b68a2bc1a"
   }
  }
 },
 "nbformat": 4,
 "nbformat_minor": 2
}
